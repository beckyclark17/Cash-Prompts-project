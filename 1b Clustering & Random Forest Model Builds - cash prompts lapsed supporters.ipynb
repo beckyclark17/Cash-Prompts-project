{
 "cells": [
  {
   "cell_type": "markdown",
   "metadata": {},
   "source": [
    "### Clustering and Random Forest models to predict donated value \n",
    "This notebook applies statistical analysis, non-linear models, and evaluation metrics to a sample of supporters from the lapsed cash audience who responded to a fixed prompt cash ask.     \n",
    "\n",
    "The data has been prepared in the jupyter notebook \"3b Cash donations exploratory analysis\" and imported as a CSV here.  \n",
    "\n",
    "<font color = orange> Nb this dataset includes outliers, unlike the dataset used for the regression analysis where they were removed.  </font>\n",
    "\n",
    "Initially my thinking was to use a clustering technique to turn donated values into classifications, and then build a random forest to predict donated value to cash appeals.  You'll see as a I progress through this notebook that clustering wasn't required and random forests can handle continuous and categorical outcomes.\n",
    "\n"
   ]
  },
  {
   "cell_type": "code",
   "execution_count": 1,
   "metadata": {
    "collapsed": false
   },
   "outputs": [],
   "source": [
    "import pandas as pd \n",
    "import numpy as np \n",
    "df = pd.read_csv('//file path/K037_fixed_cash_cleaned_wOutlier.csv')\n",
    "\n",
    "\n",
    "import matplotlib.pyplot as plt\n",
    "import seaborn as sns\n",
    "%matplotlib inline\n",
    "from sklearn import datasets, neighbors, metrics\n"
   ]
  },
  {
   "cell_type": "code",
   "execution_count": 2,
   "metadata": {
    "collapsed": false
   },
   "outputs": [
    {
     "data": {
      "text/html": [
       "<div>\n",
       "<table border=\"1\" class=\"dataframe\">\n",
       "  <thead>\n",
       "    <tr style=\"text-align: right;\">\n",
       "      <th></th>\n",
       "      <th>0</th>\n",
       "      <th>1</th>\n",
       "      <th>2</th>\n",
       "      <th>3</th>\n",
       "      <th>4</th>\n",
       "    </tr>\n",
       "  </thead>\n",
       "  <tbody>\n",
       "    <tr>\n",
       "      <th>Unnamed: 0</th>\n",
       "      <td>0</td>\n",
       "      <td>1</td>\n",
       "      <td>2</td>\n",
       "      <td>3</td>\n",
       "      <td>4</td>\n",
       "    </tr>\n",
       "    <tr>\n",
       "      <th>donatedamount</th>\n",
       "      <td>10</td>\n",
       "      <td>63</td>\n",
       "      <td>10</td>\n",
       "      <td>20</td>\n",
       "      <td>50</td>\n",
       "    </tr>\n",
       "    <tr>\n",
       "      <th>audienceprofile2016</th>\n",
       "      <td>Upwardly Urban</td>\n",
       "      <td>Not in target</td>\n",
       "      <td>Not in target</td>\n",
       "      <td>Rapid Responders</td>\n",
       "      <td>Unclassified</td>\n",
       "    </tr>\n",
       "    <tr>\n",
       "      <th>fixedprompt</th>\n",
       "      <td>20</td>\n",
       "      <td>20</td>\n",
       "      <td>20</td>\n",
       "      <td>20</td>\n",
       "      <td>20</td>\n",
       "    </tr>\n",
       "    <tr>\n",
       "      <th>oneoffavgdonatedlast24m</th>\n",
       "      <td>8.3333</td>\n",
       "      <td>25</td>\n",
       "      <td>0</td>\n",
       "      <td>30</td>\n",
       "      <td>30</td>\n",
       "    </tr>\n",
       "    <tr>\n",
       "      <th>oneoffdonationsl24m</th>\n",
       "      <td>4</td>\n",
       "      <td>3</td>\n",
       "      <td>1</td>\n",
       "      <td>2</td>\n",
       "      <td>4</td>\n",
       "    </tr>\n",
       "    <tr>\n",
       "      <th>everpledgeflag</th>\n",
       "      <td>0</td>\n",
       "      <td>0</td>\n",
       "      <td>1</td>\n",
       "      <td>0</td>\n",
       "      <td>0</td>\n",
       "    </tr>\n",
       "    <tr>\n",
       "      <th>lastdonationemer</th>\n",
       "      <td>1</td>\n",
       "      <td>0</td>\n",
       "      <td>0</td>\n",
       "      <td>1</td>\n",
       "      <td>1</td>\n",
       "    </tr>\n",
       "    <tr>\n",
       "      <th>alldonationsavgl24m</th>\n",
       "      <td>8.75</td>\n",
       "      <td>26.6666</td>\n",
       "      <td>10.2941</td>\n",
       "      <td>25</td>\n",
       "      <td>35</td>\n",
       "    </tr>\n",
       "    <tr>\n",
       "      <th>oneoffltv</th>\n",
       "      <td>64</td>\n",
       "      <td>700</td>\n",
       "      <td>15</td>\n",
       "      <td>517</td>\n",
       "      <td>245</td>\n",
       "    </tr>\n",
       "    <tr>\n",
       "      <th>allltv</th>\n",
       "      <td>64</td>\n",
       "      <td>700</td>\n",
       "      <td>215</td>\n",
       "      <td>517</td>\n",
       "      <td>245</td>\n",
       "    </tr>\n",
       "    <tr>\n",
       "      <th>lastoneoffamount</th>\n",
       "      <td>10</td>\n",
       "      <td>30</td>\n",
       "      <td>15</td>\n",
       "      <td>20</td>\n",
       "      <td>50</td>\n",
       "    </tr>\n",
       "    <tr>\n",
       "      <th>lastoneoffga</th>\n",
       "      <td>1</td>\n",
       "      <td>0</td>\n",
       "      <td>1</td>\n",
       "      <td>0</td>\n",
       "      <td>1</td>\n",
       "    </tr>\n",
       "    <tr>\n",
       "      <th>lifetimedonations</th>\n",
       "      <td>6</td>\n",
       "      <td>31</td>\n",
       "      <td>21</td>\n",
       "      <td>21</td>\n",
       "      <td>14</td>\n",
       "    </tr>\n",
       "    <tr>\n",
       "      <th>monthssincelastoneoff</th>\n",
       "      <td>66</td>\n",
       "      <td>66</td>\n",
       "      <td>21</td>\n",
       "      <td>14</td>\n",
       "      <td>14</td>\n",
       "    </tr>\n",
       "    <tr>\n",
       "      <th>monthssincefirstdonation</th>\n",
       "      <td>128</td>\n",
       "      <td>218</td>\n",
       "      <td>36</td>\n",
       "      <td>202</td>\n",
       "      <td>108</td>\n",
       "    </tr>\n",
       "    <tr>\n",
       "      <th>monthssincelastdonation</th>\n",
       "      <td>66</td>\n",
       "      <td>66</td>\n",
       "      <td>17</td>\n",
       "      <td>14</td>\n",
       "      <td>14</td>\n",
       "    </tr>\n",
       "    <tr>\n",
       "      <th>outlier_flag</th>\n",
       "      <td>0</td>\n",
       "      <td>0</td>\n",
       "      <td>0</td>\n",
       "      <td>0</td>\n",
       "      <td>0</td>\n",
       "    </tr>\n",
       "    <tr>\n",
       "      <th>mosaicGroup</th>\n",
       "      <td>B</td>\n",
       "      <td>H</td>\n",
       "      <td>L</td>\n",
       "      <td>C</td>\n",
       "      <td>NaN</td>\n",
       "    </tr>\n",
       "  </tbody>\n",
       "</table>\n",
       "</div>"
      ],
      "text/plain": [
       "                                       0              1              2  \\\n",
       "Unnamed: 0                             0              1              2   \n",
       "donatedamount                         10             63             10   \n",
       "audienceprofile2016       Upwardly Urban  Not in target  Not in target   \n",
       "fixedprompt                           20             20             20   \n",
       "oneoffavgdonatedlast24m           8.3333             25              0   \n",
       "oneoffdonationsl24m                    4              3              1   \n",
       "everpledgeflag                         0              0              1   \n",
       "lastdonationemer                       1              0              0   \n",
       "alldonationsavgl24m                 8.75        26.6666        10.2941   \n",
       "oneoffltv                             64            700             15   \n",
       "allltv                                64            700            215   \n",
       "lastoneoffamount                      10             30             15   \n",
       "lastoneoffga                           1              0              1   \n",
       "lifetimedonations                      6             31             21   \n",
       "monthssincelastoneoff                 66             66             21   \n",
       "monthssincefirstdonation             128            218             36   \n",
       "monthssincelastdonation               66             66             17   \n",
       "outlier_flag                           0              0              0   \n",
       "mosaicGroup                            B              H              L   \n",
       "\n",
       "                                         3             4  \n",
       "Unnamed: 0                               3             4  \n",
       "donatedamount                           20            50  \n",
       "audienceprofile2016       Rapid Responders  Unclassified  \n",
       "fixedprompt                             20            20  \n",
       "oneoffavgdonatedlast24m                 30            30  \n",
       "oneoffdonationsl24m                      2             4  \n",
       "everpledgeflag                           0             0  \n",
       "lastdonationemer                         1             1  \n",
       "alldonationsavgl24m                     25            35  \n",
       "oneoffltv                              517           245  \n",
       "allltv                                 517           245  \n",
       "lastoneoffamount                        20            50  \n",
       "lastoneoffga                             0             1  \n",
       "lifetimedonations                       21            14  \n",
       "monthssincelastoneoff                   14            14  \n",
       "monthssincefirstdonation               202           108  \n",
       "monthssincelastdonation                 14            14  \n",
       "outlier_flag                             0             0  \n",
       "mosaicGroup                              C           NaN  "
      ]
     },
     "execution_count": 2,
     "metadata": {},
     "output_type": "execute_result"
    }
   ],
   "source": [
    "df.head().T#ranspose"
   ]
  },
  {
   "cell_type": "code",
   "execution_count": 3,
   "metadata": {
    "collapsed": false
   },
   "outputs": [],
   "source": [
    "## Tidying up the data... \n",
    "\n",
    "##Exporting to CSV copied the pandas index field which isn't needed\n",
    "df.drop('Unnamed: 0', axis = 1, inplace = True)\n",
    "\n",
    "# converting binary flags from float to int \n",
    "df.everpledgeflag = df['everpledgeflag'].astype(int)\n",
    "df.lastoneoffga = df['lastoneoffga'].astype(int)\n",
    "\n",
    "# Found some nulls and filling them with 0\n",
    "df.lastdonationemer.isnull().sum()\n",
    "df['lastdonationemer'] = df['lastdonationemer'].fillna(0)\n",
    "df['lastdonationemer'] = df['lastdonationemer'].astype(int)\n",
    "\n",
    "## Combining fields to see if these are more powerful than their individual parts\n",
    "df['pct_last_to_avg24m'] = df.lastoneoffamount/df.alldonationsavgl24m\n",
    "df['pct_last_to_avg24m'] = df['pct_last_to_avg24m'].fillna(0)\n",
    "\n",
    "df['pct_last_to_all'] = df.lastoneoffamount/df.allltv\n",
    "df['pct_last_to_all'] = df['pct_last_to_all'].fillna(0)\n",
    "\n",
    "## removing the outlier flag \n",
    "df.drop('outlier_flag',axis =1, inplace=True)\n",
    "\n",
    "## filling 7 supporters null mosaic group with U (unknown)\n",
    "df['mosaicGroup'] = df['mosaicGroup'].fillna('U')"
   ]
  },
  {
   "cell_type": "markdown",
   "metadata": {},
   "source": [
    "### Correlation"
   ]
  },
  {
   "cell_type": "code",
   "execution_count": 157,
   "metadata": {
    "collapsed": false
   },
   "outputs": [
    {
     "data": {
      "text/plain": [
       "donatedamount              1.000000\n",
       "fixedprompt               -0.003385\n",
       "everpledgeflag            -0.007988\n",
       "lastdonationemer          -0.040868\n",
       "alldonationsavgl24m        0.423563\n",
       "allltv                     0.275033\n",
       "lastoneoffamount           0.464191\n",
       "lastoneoffga              -0.019412\n",
       "lifetimedonations         -0.067652\n",
       "monthssincelastdonation    0.080726\n",
       "pct_last_to_all            0.092623\n",
       "Name: donatedamount, dtype: float64"
      ]
     },
     "execution_count": 157,
     "metadata": {},
     "output_type": "execute_result"
    },
    {
     "data": {
      "image/png": "[encoded data removed]",
      "text/plain": [
       "<matplotlib.figure.Figure at 0xc918ef0>"
      ]
     },
     "metadata": {},
     "output_type": "display_data"
    }
   ],
   "source": [
    "# only showing those with a correlation greater than 0.3 or less than -0.3\n",
    "sns.heatmap((df.corr()>0.3) | (df.corr()<-3))\n",
    "df.corr().donatedamount\n"
   ]
  },
  {
   "cell_type": "markdown",
   "metadata": {},
   "source": [
    "multi-colinearity in random forest should also be avoided.\n",
    "\n",
    "Having reviewed the features which have a correlation > 0.3 it shows that the main \"conflicts\" are between the features which capture a one-off history and \"all\" donation history.  \n",
    "\n",
    "I then looked at the correlation between the comparable \"all\" and \"one-off\" variables with the donated amount. And this confirms that capturing \"all\" donations are more correlated:\n"
   ]
  },
  {
   "cell_type": "markdown",
   "metadata": {},
   "source": [
    "<img src=\"correlation.png\">"
   ]
  },
  {
   "cell_type": "code",
   "execution_count": 4,
   "metadata": {
    "collapsed": false
   },
   "outputs": [],
   "source": [
    "## removing colineated variables\n",
    "df.drop(df[['monthssincefirstdonation','monthssincelastoneoff','oneoffavgdonatedlast24m',\n",
    "                                 'oneoffdonationsl24m','oneoffltv','pct_last_to_avg24m']], axis=1, inplace=True)"
   ]
  },
  {
   "cell_type": "code",
   "execution_count": 5,
   "metadata": {
    "collapsed": false
   },
   "outputs": [],
   "source": [
    "## create test and training set - 80/20 should be ok as i am also using cross validation.\n",
    "# df.shape[0]*.2\n",
    "training_data = df[:1504]\n",
    "test_data = df[:375]"
   ]
  },
  {
   "cell_type": "markdown",
   "metadata": {},
   "source": [
    "Mindful mums only populate bins 1 to 4 (up to £40). The second bin (£10-20) is the most common across all profiles.  Unclassified's unsual dist can be explained by the low vol of supporters (6).  WW and RR are more likely to give £100."
   ]
  },
  {
   "cell_type": "markdown",
   "metadata": {},
   "source": [
    "### Clustering "
   ]
  },
  {
   "cell_type": "code",
   "execution_count": 5,
   "metadata": {
    "collapsed": false
   },
   "outputs": [],
   "source": [
    "## since my data sample is quite small I would need to be more mindful of sample size if I were creating a classification sample.  \n",
    "## Should be ok to create 5-10 classifications in the random forest.\n",
    "\n",
    "from sklearn.cluster import KMeans, AgglomerativeClustering\n"
   ]
  },
  {
   "cell_type": "code",
   "execution_count": 21,
   "metadata": {
    "collapsed": false
   },
   "outputs": [
    {
     "data": {
      "text/html": [
       "<div>\n",
       "<table border=\"1\" class=\"dataframe\">\n",
       "  <thead>\n",
       "    <tr style=\"text-align: right;\">\n",
       "      <th></th>\n",
       "      <th>donatedamount</th>\n",
       "      <th>audienceprofile2016</th>\n",
       "      <th>fixedprompt</th>\n",
       "      <th>oneoffavgdonatedlast24m</th>\n",
       "      <th>oneoffdonationsl24m</th>\n",
       "      <th>everpledgeflag</th>\n",
       "      <th>lastdonationemer</th>\n",
       "      <th>alldonationsavgl24m</th>\n",
       "      <th>oneoffltv</th>\n",
       "      <th>allltv</th>\n",
       "      <th>...</th>\n",
       "      <th>mosaic_G</th>\n",
       "      <th>mosaic_H</th>\n",
       "      <th>mosaic_I</th>\n",
       "      <th>mosaic_J</th>\n",
       "      <th>mosaic_K</th>\n",
       "      <th>mosaic_L</th>\n",
       "      <th>mosaic_M</th>\n",
       "      <th>mosaic_N</th>\n",
       "      <th>pct_last_to_avg24m</th>\n",
       "      <th>pct_last_to_all</th>\n",
       "    </tr>\n",
       "  </thead>\n",
       "  <tbody>\n",
       "    <tr>\n",
       "      <th>0</th>\n",
       "      <td>10.0</td>\n",
       "      <td>Upwardly Urban</td>\n",
       "      <td>20.0</td>\n",
       "      <td>8.3333</td>\n",
       "      <td>4.0</td>\n",
       "      <td>0</td>\n",
       "      <td>1</td>\n",
       "      <td>8.7500</td>\n",
       "      <td>64.0</td>\n",
       "      <td>64.0</td>\n",
       "      <td>...</td>\n",
       "      <td>0</td>\n",
       "      <td>0</td>\n",
       "      <td>0</td>\n",
       "      <td>0</td>\n",
       "      <td>0</td>\n",
       "      <td>0</td>\n",
       "      <td>0</td>\n",
       "      <td>0</td>\n",
       "      <td>1.142857</td>\n",
       "      <td>0.156250</td>\n",
       "    </tr>\n",
       "    <tr>\n",
       "      <th>1</th>\n",
       "      <td>63.0</td>\n",
       "      <td>Not in target</td>\n",
       "      <td>20.0</td>\n",
       "      <td>25.0000</td>\n",
       "      <td>3.0</td>\n",
       "      <td>0</td>\n",
       "      <td>0</td>\n",
       "      <td>26.6666</td>\n",
       "      <td>700.0</td>\n",
       "      <td>700.0</td>\n",
       "      <td>...</td>\n",
       "      <td>0</td>\n",
       "      <td>1</td>\n",
       "      <td>0</td>\n",
       "      <td>0</td>\n",
       "      <td>0</td>\n",
       "      <td>0</td>\n",
       "      <td>0</td>\n",
       "      <td>0</td>\n",
       "      <td>1.125003</td>\n",
       "      <td>0.042857</td>\n",
       "    </tr>\n",
       "    <tr>\n",
       "      <th>2</th>\n",
       "      <td>10.0</td>\n",
       "      <td>Not in target</td>\n",
       "      <td>20.0</td>\n",
       "      <td>0.0000</td>\n",
       "      <td>1.0</td>\n",
       "      <td>1</td>\n",
       "      <td>0</td>\n",
       "      <td>10.2941</td>\n",
       "      <td>15.0</td>\n",
       "      <td>215.0</td>\n",
       "      <td>...</td>\n",
       "      <td>0</td>\n",
       "      <td>0</td>\n",
       "      <td>0</td>\n",
       "      <td>0</td>\n",
       "      <td>0</td>\n",
       "      <td>1</td>\n",
       "      <td>0</td>\n",
       "      <td>0</td>\n",
       "      <td>1.457145</td>\n",
       "      <td>0.069767</td>\n",
       "    </tr>\n",
       "    <tr>\n",
       "      <th>3</th>\n",
       "      <td>20.0</td>\n",
       "      <td>Rapid Responders</td>\n",
       "      <td>20.0</td>\n",
       "      <td>30.0000</td>\n",
       "      <td>2.0</td>\n",
       "      <td>0</td>\n",
       "      <td>1</td>\n",
       "      <td>25.0000</td>\n",
       "      <td>517.0</td>\n",
       "      <td>517.0</td>\n",
       "      <td>...</td>\n",
       "      <td>0</td>\n",
       "      <td>0</td>\n",
       "      <td>0</td>\n",
       "      <td>0</td>\n",
       "      <td>0</td>\n",
       "      <td>0</td>\n",
       "      <td>0</td>\n",
       "      <td>0</td>\n",
       "      <td>0.800000</td>\n",
       "      <td>0.038685</td>\n",
       "    </tr>\n",
       "    <tr>\n",
       "      <th>4</th>\n",
       "      <td>50.0</td>\n",
       "      <td>Unclassified</td>\n",
       "      <td>20.0</td>\n",
       "      <td>30.0000</td>\n",
       "      <td>4.0</td>\n",
       "      <td>0</td>\n",
       "      <td>1</td>\n",
       "      <td>35.0000</td>\n",
       "      <td>245.0</td>\n",
       "      <td>245.0</td>\n",
       "      <td>...</td>\n",
       "      <td>0</td>\n",
       "      <td>0</td>\n",
       "      <td>0</td>\n",
       "      <td>0</td>\n",
       "      <td>0</td>\n",
       "      <td>0</td>\n",
       "      <td>0</td>\n",
       "      <td>0</td>\n",
       "      <td>1.428571</td>\n",
       "      <td>0.204082</td>\n",
       "    </tr>\n",
       "  </tbody>\n",
       "</table>\n",
       "<p>5 rows × 33 columns</p>\n",
       "</div>"
      ],
      "text/plain": [
       "   donatedamount audienceprofile2016  fixedprompt  oneoffavgdonatedlast24m  \\\n",
       "0           10.0      Upwardly Urban         20.0                   8.3333   \n",
       "1           63.0       Not in target         20.0                  25.0000   \n",
       "2           10.0       Not in target         20.0                   0.0000   \n",
       "3           20.0    Rapid Responders         20.0                  30.0000   \n",
       "4           50.0        Unclassified         20.0                  30.0000   \n",
       "\n",
       "   oneoffdonationsl24m  everpledgeflag  lastdonationemer  alldonationsavgl24m  \\\n",
       "0                  4.0               0                 1               8.7500   \n",
       "1                  3.0               0                 0              26.6666   \n",
       "2                  1.0               1                 0              10.2941   \n",
       "3                  2.0               0                 1              25.0000   \n",
       "4                  4.0               0                 1              35.0000   \n",
       "\n",
       "   oneoffltv  allltv       ...         mosaic_G  mosaic_H  mosaic_I  mosaic_J  \\\n",
       "0       64.0    64.0       ...                0         0         0         0   \n",
       "1      700.0   700.0       ...                0         1         0         0   \n",
       "2       15.0   215.0       ...                0         0         0         0   \n",
       "3      517.0   517.0       ...                0         0         0         0   \n",
       "4      245.0   245.0       ...                0         0         0         0   \n",
       "\n",
       "   mosaic_K  mosaic_L  mosaic_M  mosaic_N  pct_last_to_avg24m  pct_last_to_all  \n",
       "0         0         0         0         0            1.142857         0.156250  \n",
       "1         0         0         0         0            1.125003         0.042857  \n",
       "2         0         1         0         0            1.457145         0.069767  \n",
       "3         0         0         0         0            0.800000         0.038685  \n",
       "4         0         0         0         0            1.428571         0.204082  \n",
       "\n",
       "[5 rows x 33 columns]"
      ]
     },
     "execution_count": 21,
     "metadata": {},
     "output_type": "execute_result"
    }
   ],
   "source": [
    "training_data.head()"
   ]
  },
  {
   "cell_type": "code",
   "execution_count": 91,
   "metadata": {
    "collapsed": false
   },
   "outputs": [
    {
     "data": {
      "text/plain": [
       "[<matplotlib.lines.Line2D at 0x17b649e8>]"
      ]
     },
     "execution_count": 91,
     "metadata": {},
     "output_type": "execute_result"
    },
    {
     "data": {
      "image/png": "[encoded data removed]",
      "text/plain": [
       "<matplotlib.figure.Figure at 0x17a14d68>"
      ]
     },
     "metadata": {},
     "output_type": "display_data"
    }
   ],
   "source": [
    "#SILHOUETTE METHOD \n",
    "from sklearn.metrics import silhouette_score\n",
    "# look for max value (which shows greatest separation between the clusters.)\n",
    "sil_coeff = []\n",
    "k_values = range(2, 10)\n",
    "for n_cluster in k_values:\n",
    "    kmeans = KMeans(n_clusters=n_cluster).fit(training_data[['donatedamount']])\n",
    "    label = kmeans.labels_\n",
    "    sil_coeff.append(silhouette_score(training_data[['donatedamount']], label, metric ='manhattan')) # metric='euclidean'\n",
    "    \n",
    "plt.plot(k_values,sil_coeff)"
   ]
  },
  {
   "cell_type": "code",
   "execution_count": 131,
   "metadata": {
    "collapsed": false
   },
   "outputs": [
    {
     "name": "stderr",
     "output_type": "stream",
     "text": [
      "C:\\Users\\BeckyC\\AppData\\Local\\Continuum\\Anaconda3\\lib\\site-packages\\ipykernel\\__main__.py:11: SettingWithCopyWarning: \n",
      "A value is trying to be set on a copy of a slice from a DataFrame.\n",
      "Try using .loc[row_indexer,col_indexer] = value instead\n",
      "\n",
      "See the caveats in the documentation: http://pandas.pydata.org/pandas-docs/stable/indexing.html#indexing-view-versus-copy\n"
     ]
    },
    {
     "data": {
      "text/plain": [
       "[<matplotlib.lines.Line2D at 0x17d1acf8>]"
      ]
     },
     "execution_count": 131,
     "metadata": {},
     "output_type": "execute_result"
    },
    {
     "data": {
      "image/png": "[encoded data removed]",
      "text/plain": [
       "<matplotlib.figure.Figure at 0x17ca9cf8>"
      ]
     },
     "metadata": {},
     "output_type": "display_data"
    }
   ],
   "source": [
    "cluster_temp = training_data[['donatedamount']] \n",
    "wk_coeff = []\n",
    "\n",
    "k_values = range(1, 11)\n",
    "\n",
    "for n_cluster in k_values:\n",
    "    wkcluster_coeff = []\n",
    "    kmeans = KMeans(n_clusters=n_cluster).fit(cluster_temp[['donatedamount']])\n",
    "    cluster_temp['cluster'] = kmeans.labels_\n",
    "    val = 0\n",
    "\n",
    "    for e, c in enumerate(kmeans.cluster_centers_): #e is the index, c[0] is the centre donated value for each cluster \n",
    "        #sum each observations variance from the mean \n",
    "        val += ((cluster_temp[cluster_temp.cluster == e][cluster_temp.columns[0]] - c[0])**2).apply(np.sqrt).sum()\n",
    "        \n",
    "    wk_coeff.append(val)\n",
    "\n",
    "plt.plot(k_values,wk_coeff)"
   ]
  },
  {
   "cell_type": "markdown",
   "metadata": {},
   "source": [
    "The \"elbow\" on the above chart isn't very pronounced.  It looks like 4 or 8 might be the optimal number of clusters.  I will use  4 clusters as the 'silhouette' test shows much greater separation at this point vs 8 clusters."
   ]
  },
  {
   "cell_type": "code",
   "execution_count": 23,
   "metadata": {
    "collapsed": false
   },
   "outputs": [
    {
     "name": "stderr",
     "output_type": "stream",
     "text": [
      "C:\\Users\\BeckyC\\AppData\\Local\\Continuum\\Anaconda3\\lib\\site-packages\\ipykernel\\__main__.py:5: SettingWithCopyWarning: \n",
      "A value is trying to be set on a copy of a slice from a DataFrame.\n",
      "Try using .loc[row_indexer,col_indexer] = value instead\n",
      "\n",
      "See the caveats in the documentation: http://pandas.pydata.org/pandas-docs/stable/indexing.html#indexing-view-versus-copy\n"
     ]
    },
    {
     "data": {
      "text/html": [
       "<div>\n",
       "<table border=\"1\" class=\"dataframe\">\n",
       "  <thead>\n",
       "    <tr style=\"text-align: right;\">\n",
       "      <th></th>\n",
       "      <th>maxdonation</th>\n",
       "      <th>mindonation</th>\n",
       "    </tr>\n",
       "    <tr>\n",
       "      <th>cluster</th>\n",
       "      <th></th>\n",
       "      <th></th>\n",
       "    </tr>\n",
       "  </thead>\n",
       "  <tbody>\n",
       "    <tr>\n",
       "      <th>0</th>\n",
       "      <td>37.0</td>\n",
       "      <td>20.0</td>\n",
       "    </tr>\n",
       "    <tr>\n",
       "      <th>1</th>\n",
       "      <td>1000.0</td>\n",
       "      <td>1000.0</td>\n",
       "    </tr>\n",
       "    <tr>\n",
       "      <th>2</th>\n",
       "      <td>270.0</td>\n",
       "      <td>200.0</td>\n",
       "    </tr>\n",
       "    <tr>\n",
       "      <th>3</th>\n",
       "      <td>150.0</td>\n",
       "      <td>80.0</td>\n",
       "    </tr>\n",
       "    <tr>\n",
       "      <th>4</th>\n",
       "      <td>500.0</td>\n",
       "      <td>500.0</td>\n",
       "    </tr>\n",
       "    <tr>\n",
       "      <th>5</th>\n",
       "      <td>1500.0</td>\n",
       "      <td>1500.0</td>\n",
       "    </tr>\n",
       "    <tr>\n",
       "      <th>6</th>\n",
       "      <td>15.0</td>\n",
       "      <td>1.0</td>\n",
       "    </tr>\n",
       "    <tr>\n",
       "      <th>7</th>\n",
       "      <td>75.0</td>\n",
       "      <td>40.0</td>\n",
       "    </tr>\n",
       "  </tbody>\n",
       "</table>\n",
       "</div>"
      ],
      "text/plain": [
       "         maxdonation  mindonation\n",
       "cluster                          \n",
       "0               37.0         20.0\n",
       "1             1000.0       1000.0\n",
       "2              270.0        200.0\n",
       "3              150.0         80.0\n",
       "4              500.0        500.0\n",
       "5             1500.0       1500.0\n",
       "6               15.0          1.0\n",
       "7               75.0         40.0"
      ]
     },
     "execution_count": 23,
     "metadata": {},
     "output_type": "execute_result"
    }
   ],
   "source": [
    "kmeans = KMeans(n_clusters=8)\n",
    "kmeans.fit(training_data[['donatedamount']])\n",
    "\n",
    "cluster_temp =training_data[['donatedamount']]\n",
    "cluster_temp['cluster']=kmeans.labels_\n",
    "\n",
    "mind = cluster_temp.groupby('cluster').donatedamount.min()\n",
    "maxd = cluster_temp.groupby('cluster').donatedamount.max()\n",
    "countd = cluster_temp.groupby('cluster').count()\n",
    "\n",
    "cluster_df = pd.DataFrame({'mindonation': mind,'maxdonation': maxd})\n",
    "cluster_df\n",
    "# # features_df.sort('Importance Score', inplace=True, ascending=False)\n"
   ]
  },
  {
   "cell_type": "code",
   "execution_count": 150,
   "metadata": {
    "collapsed": false
   },
   "outputs": [
    {
     "data": {
      "text/plain": [
       "<seaborn.axisgrid.PairGrid at 0x17d29eb8>"
      ]
     },
     "execution_count": 150,
     "metadata": {},
     "output_type": "execute_result"
    },
    {
     "data": {
      "image/png": "[encoded data removed]",
      "text/plain": [
       "<matplotlib.figure.Figure at 0x17d29320>"
      ]
     },
     "metadata": {},
     "output_type": "display_data"
    }
   ],
   "source": [
    "sns.pairplot(data = cluster_temp, hue='cluster')"
   ]
  },
  {
   "cell_type": "markdown",
   "metadata": {},
   "source": [
    "** Is it right to use a clustering technique?  ** \n",
    "\n",
    "The objective of clustering is to identify groups which have separation.  I'm not really interested in that, and actually I might want to create as many donation value classes as possible to create a prediction with less margin for error.  \n",
    "\n",
    "I think it might be better to create 10 bins up to £100 and £100+?"
   ]
  },
  {
   "cell_type": "markdown",
   "metadata": {},
   "source": [
    "### Creating bins"
   ]
  },
  {
   "cell_type": "code",
   "execution_count": 6,
   "metadata": {
    "collapsed": false
   },
   "outputs": [
    {
     "name": "stderr",
     "output_type": "stream",
     "text": [
      "C:\\Users\\BeckyC\\AppData\\Local\\Continuum\\Anaconda3\\lib\\site-packages\\ipykernel\\__main__.py:29: SettingWithCopyWarning: \n",
      "A value is trying to be set on a copy of a slice from a DataFrame.\n",
      "Try using .loc[row_indexer,col_indexer] = value instead\n",
      "\n",
      "See the caveats in the documentation: http://pandas.pydata.org/pandas-docs/stable/indexing.html#indexing-view-versus-copy\n",
      "C:\\Users\\BeckyC\\AppData\\Local\\Continuum\\Anaconda3\\lib\\site-packages\\ipykernel\\__main__.py:30: SettingWithCopyWarning: \n",
      "A value is trying to be set on a copy of a slice from a DataFrame.\n",
      "Try using .loc[row_indexer,col_indexer] = value instead\n",
      "\n",
      "See the caveats in the documentation: http://pandas.pydata.org/pandas-docs/stable/indexing.html#indexing-view-versus-copy\n"
     ]
    }
   ],
   "source": [
    "##update 19.05.2017, reducing the number of bins, bins between 50 & 90 had too few observations to get good results.\n",
    "# bins = np.linspace(0, 100, 11) - v1 \n",
    "bins = np.linspace(0,50, 6) # v2 \n",
    "\n",
    "def add_bins(x):\n",
    "#     if np.all(x > bins[10]):\n",
    "#         return 11 \n",
    "#     elif np.all(x >bins[9]):\n",
    "#         return 10 \n",
    "#     elif np.all(x >bins[8]):\n",
    "#         return 9 \n",
    "#     elif np.all(x >bins[7]):\n",
    "#         return 8 \n",
    "#     elif np.all(x >bins[6]):\n",
    "#         return 7 \n",
    "    if np.all(x >bins[5]):\n",
    "        return 5 \n",
    "    elif np.all(x >bins[4]):\n",
    "        return 4 \n",
    "    elif np.all(x >bins[3]):\n",
    "        return 3 \n",
    "    elif np.all(x >bins[2]):\n",
    "        return 2 \n",
    "    elif np.all(x >bins[1]):\n",
    "        return 1 \n",
    "    else:\n",
    "        return 0 \n",
    "# add the bins to the training and test data sets   \n",
    "training_data['bin']  = training_data['donatedamount'].map(add_bins)\n",
    "test_data['bin']  = test_data['donatedamount'].map(add_bins)\n",
    "\n",
    "# 10, >100 \n",
    "# 9, 90.01 to 100\n",
    "# 1, 0 to 10"
   ]
  },
  {
   "cell_type": "code",
   "execution_count": 164,
   "metadata": {
    "collapsed": false
   },
   "outputs": [
    {
     "data": {
      "text/plain": [
       "bin\n",
       "0      10.0\n",
       "1      20.0\n",
       "2      30.0\n",
       "3      40.0\n",
       "4      50.0\n",
       "5    1500.0\n",
       "Name: __dummy__, dtype: float64"
      ]
     },
     "execution_count": 164,
     "metadata": {},
     "output_type": "execute_result"
    }
   ],
   "source": [
    "# Checking the bins by calculating the average donated per bin \n",
    "pd.crosstab(training_data.bin,'', values= training_data.donatedamount, aggfunc='mean')\n",
    "pd.crosstab(training_data.bin,'', values= training_data.donatedamount, aggfunc='max')"
   ]
  },
  {
   "cell_type": "code",
   "execution_count": 159,
   "metadata": {
    "collapsed": false
   },
   "outputs": [
    {
     "data": {
      "text/plain": [
       "audienceprofile2016\n",
       "Mindful Mums            42\n",
       "Not in target          507\n",
       "Rapid Responders       321\n",
       "Unclassified             6\n",
       "Upwardly Urban         273\n",
       "Wealthy Wellwishers    355\n",
       "Name: __dummy__, dtype: int64"
      ]
     },
     "execution_count": 159,
     "metadata": {},
     "output_type": "execute_result"
    },
    {
     "data": {
      "image/png": "[encoded data removed]",
      "text/plain": [
       "<matplotlib.figure.Figure at 0xc8a0da0>"
      ]
     },
     "metadata": {},
     "output_type": "display_data"
    }
   ],
   "source": [
    "## Does audience profile influence donated amount?\n",
    "\n",
    "## this shows the distribution across the bins by audience profile.\n",
    "sns.heatmap(pd.crosstab(training_data.audienceprofile2016, training_data.bin).apply(lambda r: r/r.sum(), axis=1),annot=True, fmt='.2f')\n",
    "pd.crosstab(training_data.audienceprofile2016,'')"
   ]
  },
  {
   "cell_type": "markdown",
   "metadata": {},
   "source": [
    "### Decision Tree"
   ]
  },
  {
   "cell_type": "markdown",
   "metadata": {},
   "source": [
    "Whist an advantage of Decision Trees is that they can take categorical variables as inputs, sklearn can't.  \n",
    "\n",
    "Rather than creating dummies, which creates 14 nodes in the decision tree, I have created an integer version.  I think in this instance this is ok, as there is an order to the mosaic group, i.e. A is better than B etc."
   ]
  },
  {
   "cell_type": "code",
   "execution_count": 7,
   "metadata": {
    "collapsed": false
   },
   "outputs": [
    {
     "name": "stderr",
     "output_type": "stream",
     "text": [
      "C:\\Users\\BeckyC\\AppData\\Local\\Continuum\\Anaconda3\\lib\\site-packages\\ipykernel\\__main__.py:8: SettingWithCopyWarning: \n",
      "A value is trying to be set on a copy of a slice from a DataFrame.\n",
      "Try using .loc[row_indexer,col_indexer] = value instead\n",
      "\n",
      "See the caveats in the documentation: http://pandas.pydata.org/pandas-docs/stable/indexing.html#indexing-view-versus-copy\n",
      "C:\\Users\\BeckyC\\AppData\\Local\\Continuum\\Anaconda3\\lib\\site-packages\\ipykernel\\__main__.py:9: SettingWithCopyWarning: \n",
      "A value is trying to be set on a copy of a slice from a DataFrame.\n",
      "Try using .loc[row_indexer,col_indexer] = value instead\n",
      "\n",
      "See the caveats in the documentation: http://pandas.pydata.org/pandas-docs/stable/indexing.html#indexing-view-versus-copy\n"
     ]
    },
    {
     "data": {
      "text/html": [
       "<div>\n",
       "<table border=\"1\" class=\"dataframe\">\n",
       "  <thead>\n",
       "    <tr>\n",
       "      <th>mosaicGroup</th>\n",
       "      <th>A</th>\n",
       "      <th>B</th>\n",
       "      <th>C</th>\n",
       "      <th>D</th>\n",
       "      <th>E</th>\n",
       "      <th>F</th>\n",
       "      <th>G</th>\n",
       "      <th>H</th>\n",
       "      <th>I</th>\n",
       "      <th>J</th>\n",
       "      <th>K</th>\n",
       "      <th>L</th>\n",
       "      <th>M</th>\n",
       "      <th>N</th>\n",
       "      <th>O</th>\n",
       "      <th>U</th>\n",
       "    </tr>\n",
       "    <tr>\n",
       "      <th>mosaicGroupInt</th>\n",
       "      <th>0</th>\n",
       "      <th>1</th>\n",
       "      <th>2</th>\n",
       "      <th>3</th>\n",
       "      <th>4</th>\n",
       "      <th>5</th>\n",
       "      <th>6</th>\n",
       "      <th>7</th>\n",
       "      <th>8</th>\n",
       "      <th>9</th>\n",
       "      <th>10</th>\n",
       "      <th>11</th>\n",
       "      <th>12</th>\n",
       "      <th>13</th>\n",
       "      <th>14</th>\n",
       "      <th>15</th>\n",
       "    </tr>\n",
       "    <tr>\n",
       "      <th>row_0</th>\n",
       "      <th></th>\n",
       "      <th></th>\n",
       "      <th></th>\n",
       "      <th></th>\n",
       "      <th></th>\n",
       "      <th></th>\n",
       "      <th></th>\n",
       "      <th></th>\n",
       "      <th></th>\n",
       "      <th></th>\n",
       "      <th></th>\n",
       "      <th></th>\n",
       "      <th></th>\n",
       "      <th></th>\n",
       "      <th></th>\n",
       "      <th></th>\n",
       "    </tr>\n",
       "  </thead>\n",
       "  <tbody>\n",
       "    <tr>\n",
       "      <th></th>\n",
       "      <td>90</td>\n",
       "      <td>299</td>\n",
       "      <td>207</td>\n",
       "      <td>98</td>\n",
       "      <td>218</td>\n",
       "      <td>101</td>\n",
       "      <td>137</td>\n",
       "      <td>63</td>\n",
       "      <td>16</td>\n",
       "      <td>36</td>\n",
       "      <td>24</td>\n",
       "      <td>79</td>\n",
       "      <td>33</td>\n",
       "      <td>53</td>\n",
       "      <td>44</td>\n",
       "      <td>6</td>\n",
       "    </tr>\n",
       "  </tbody>\n",
       "</table>\n",
       "</div>"
      ],
      "text/plain": [
       "mosaicGroup      A    B    C   D    E    F    G   H   I   J   K   L   M   N  \\\n",
       "mosaicGroupInt  0    1    2   3    4    5    6   7   8   9   10  11  12  13   \n",
       "row_0                                                                         \n",
       "                90  299  207  98  218  101  137  63  16  36  24  79  33  53   \n",
       "\n",
       "mosaicGroup      O  U  \n",
       "mosaicGroupInt  14 15  \n",
       "row_0                  \n",
       "                44  6  "
      ]
     },
     "execution_count": 7,
     "metadata": {},
     "output_type": "execute_result"
    }
   ],
   "source": [
    "from sklearn import preprocessing \n",
    "\n",
    "#this is creating an integer for each mosaic group\n",
    "le = preprocessing.LabelEncoder()\n",
    "le.fit(training_data.mosaicGroup.drop_duplicates())\n",
    "\n",
    "# and then applying it to the datasets.\n",
    "training_data['mosaicGroupInt'] = le.transform(training_data.mosaicGroup) \n",
    "test_data['mosaicGroupInt'] = le.transform(test_data.mosaicGroup) \n",
    "\n",
    "\n",
    "pd.crosstab('',[training_data.mosaicGroup, training_data.mosaicGroupInt])"
   ]
  },
  {
   "cell_type": "code",
   "execution_count": 42,
   "metadata": {
    "collapsed": false
   },
   "outputs": [
    {
     "data": {
      "text/html": [
       "<div>\n",
       "<table border=\"1\" class=\"dataframe\">\n",
       "  <thead>\n",
       "    <tr style=\"text-align: right;\">\n",
       "      <th></th>\n",
       "      <th>donatedamount</th>\n",
       "      <th>audienceprofile2016</th>\n",
       "      <th>fixedprompt</th>\n",
       "      <th>everpledgeflag</th>\n",
       "      <th>lastdonationemer</th>\n",
       "      <th>alldonationsavgl24m</th>\n",
       "      <th>allltv</th>\n",
       "      <th>lastoneoffamount</th>\n",
       "      <th>lastoneoffga</th>\n",
       "      <th>lifetimedonations</th>\n",
       "      <th>monthssincelastdonation</th>\n",
       "      <th>mosaicGroup</th>\n",
       "      <th>pct_last_to_all</th>\n",
       "      <th>bin</th>\n",
       "      <th>mosaicGroupInt</th>\n",
       "    </tr>\n",
       "  </thead>\n",
       "  <tbody>\n",
       "    <tr>\n",
       "      <th>0</th>\n",
       "      <td>10.0</td>\n",
       "      <td>Upwardly Urban</td>\n",
       "      <td>20.0</td>\n",
       "      <td>0</td>\n",
       "      <td>1</td>\n",
       "      <td>8.7500</td>\n",
       "      <td>64.0</td>\n",
       "      <td>10.0</td>\n",
       "      <td>1</td>\n",
       "      <td>6.0</td>\n",
       "      <td>66.0</td>\n",
       "      <td>B</td>\n",
       "      <td>0.156250</td>\n",
       "      <td>0</td>\n",
       "      <td>1</td>\n",
       "    </tr>\n",
       "    <tr>\n",
       "      <th>1</th>\n",
       "      <td>63.0</td>\n",
       "      <td>Not in target</td>\n",
       "      <td>20.0</td>\n",
       "      <td>0</td>\n",
       "      <td>0</td>\n",
       "      <td>26.6666</td>\n",
       "      <td>700.0</td>\n",
       "      <td>30.0</td>\n",
       "      <td>0</td>\n",
       "      <td>31.0</td>\n",
       "      <td>66.0</td>\n",
       "      <td>H</td>\n",
       "      <td>0.042857</td>\n",
       "      <td>5</td>\n",
       "      <td>7</td>\n",
       "    </tr>\n",
       "    <tr>\n",
       "      <th>2</th>\n",
       "      <td>10.0</td>\n",
       "      <td>Not in target</td>\n",
       "      <td>20.0</td>\n",
       "      <td>1</td>\n",
       "      <td>0</td>\n",
       "      <td>10.2941</td>\n",
       "      <td>215.0</td>\n",
       "      <td>15.0</td>\n",
       "      <td>1</td>\n",
       "      <td>21.0</td>\n",
       "      <td>17.0</td>\n",
       "      <td>L</td>\n",
       "      <td>0.069767</td>\n",
       "      <td>0</td>\n",
       "      <td>11</td>\n",
       "    </tr>\n",
       "    <tr>\n",
       "      <th>3</th>\n",
       "      <td>20.0</td>\n",
       "      <td>Rapid Responders</td>\n",
       "      <td>20.0</td>\n",
       "      <td>0</td>\n",
       "      <td>1</td>\n",
       "      <td>25.0000</td>\n",
       "      <td>517.0</td>\n",
       "      <td>20.0</td>\n",
       "      <td>0</td>\n",
       "      <td>21.0</td>\n",
       "      <td>14.0</td>\n",
       "      <td>C</td>\n",
       "      <td>0.038685</td>\n",
       "      <td>1</td>\n",
       "      <td>2</td>\n",
       "    </tr>\n",
       "    <tr>\n",
       "      <th>4</th>\n",
       "      <td>50.0</td>\n",
       "      <td>Unclassified</td>\n",
       "      <td>20.0</td>\n",
       "      <td>0</td>\n",
       "      <td>1</td>\n",
       "      <td>35.0000</td>\n",
       "      <td>245.0</td>\n",
       "      <td>50.0</td>\n",
       "      <td>1</td>\n",
       "      <td>14.0</td>\n",
       "      <td>14.0</td>\n",
       "      <td>U</td>\n",
       "      <td>0.204082</td>\n",
       "      <td>4</td>\n",
       "      <td>15</td>\n",
       "    </tr>\n",
       "  </tbody>\n",
       "</table>\n",
       "</div>"
      ],
      "text/plain": [
       "   donatedamount audienceprofile2016  fixedprompt  everpledgeflag  \\\n",
       "0           10.0      Upwardly Urban         20.0               0   \n",
       "1           63.0       Not in target         20.0               0   \n",
       "2           10.0       Not in target         20.0               1   \n",
       "3           20.0    Rapid Responders         20.0               0   \n",
       "4           50.0        Unclassified         20.0               0   \n",
       "\n",
       "   lastdonationemer  alldonationsavgl24m  allltv  lastoneoffamount  \\\n",
       "0                 1               8.7500    64.0              10.0   \n",
       "1                 0              26.6666   700.0              30.0   \n",
       "2                 0              10.2941   215.0              15.0   \n",
       "3                 1              25.0000   517.0              20.0   \n",
       "4                 1              35.0000   245.0              50.0   \n",
       "\n",
       "   lastoneoffga  lifetimedonations  monthssincelastdonation mosaicGroup  \\\n",
       "0             1                6.0                     66.0           B   \n",
       "1             0               31.0                     66.0           H   \n",
       "2             1               21.0                     17.0           L   \n",
       "3             0               21.0                     14.0           C   \n",
       "4             1               14.0                     14.0           U   \n",
       "\n",
       "   pct_last_to_all  bin  mosaicGroupInt  \n",
       "0         0.156250    0               1  \n",
       "1         0.042857    5               7  \n",
       "2         0.069767    0              11  \n",
       "3         0.038685    1               2  \n",
       "4         0.204082    4              15  "
      ]
     },
     "execution_count": 42,
     "metadata": {},
     "output_type": "execute_result"
    }
   ],
   "source": [
    "training_data.head()"
   ]
  },
  {
   "cell_type": "code",
   "execution_count": 8,
   "metadata": {
    "collapsed": false
   },
   "outputs": [
    {
     "data": {
      "text/plain": [
       "DecisionTreeClassifier(class_weight=None, criterion='gini', max_depth=4,\n",
       "            max_features=None, max_leaf_nodes=None,\n",
       "            min_impurity_split=1e-07, min_samples_leaf=1,\n",
       "            min_samples_split=2, min_weight_fraction_leaf=0.0,\n",
       "            presort=False, random_state=None, splitter='best')"
      ]
     },
     "execution_count": 8,
     "metadata": {},
     "output_type": "execute_result"
    }
   ],
   "source": [
    "## v1 - using all features except for the correlated (removed above), categorical features & invalid predictors.\n",
    "#dropped audience profile as decision tree didn't want to take strings as an input\n",
    "\n",
    "from sklearn.tree import DecisionTreeClassifier\n",
    "\n",
    "model = DecisionTreeClassifier(max_depth=4)\n",
    "y_col = 'bin' # 'donatedamount' or 'bin'\n",
    "\n",
    "X = training_data.copy().dropna() # drops 42 records with nulls\n",
    "y = X[y_col]\n",
    "\n",
    "X.drop(['audienceprofile2016','fixedprompt','donatedamount','bin','mosaicGroup'], axis=1, inplace=True)\n",
    "\n",
    "# Fits the model\n",
    "model.fit(X, y)\n"
   ]
  },
  {
   "cell_type": "code",
   "execution_count": null,
   "metadata": {
    "collapsed": false
   },
   "outputs": [],
   "source": [
    "## v2 refined features retrospectively after using feature importance on the random forest models.\n",
    "\n",
    "from sklearn.tree import DecisionTreeClassifier\n",
    "\n",
    "model = DecisionTreeClassifier(max_depth=6)\n",
    "y_col = 'bin' # 'donatedamount' or 'bin'\n",
    "\n",
    "\n",
    "x_col = [y_col,'alldonationsavgl24m', 'oneoffltv','oneoffdonationsl24m','oneoffavgdonatedlast24m',\n",
    "                 'mosaicGroupInt','pct_last_to_all','monthssincelastoneoff']\n",
    "\n",
    "X = training_data.copy().dropna() # drops 42 records with nulls\n",
    "y = X[y_col]\n",
    "X = X[x_col]\n",
    "X.drop([y_col,'audienceprofile2016','fixedprompt','donatedamount','bin','mosaicGroup'], axis=1, inplace=True)\n",
    "\n",
    "\n",
    "# Fits the model\n",
    "model.fit(X, y)"
   ]
  },
  {
   "cell_type": "code",
   "execution_count": 8,
   "metadata": {
    "collapsed": false
   },
   "outputs": [
    {
     "name": "stdout",
     "output_type": "stream",
     "text": [
      "donatedamount CV Accuracy [ 0.26031746  0.34653465  0.35763889  0.34767025  0.3465704 ], Average Accuracy 0.3317463301359333\n"
     ]
    },
    {
     "name": "stderr",
     "output_type": "stream",
     "text": [
      "C:\\Users\\BeckyC\\AppData\\Local\\Continuum\\Anaconda3\\lib\\site-packages\\sklearn\\cross_validation.py:44: DeprecationWarning: This module was deprecated in version 0.18 in favor of the model_selection module into which all the refactored classes and functions are moved. Also note that the interface of the new CV iterators are different from that of this module. This module will be removed in 0.20.\n",
      "  \"This module will be removed in 0.20.\", DeprecationWarning)\n",
      "C:\\Users\\BeckyC\\AppData\\Local\\Continuum\\Anaconda3\\lib\\site-packages\\sklearn\\cross_validation.py:552: Warning: The least populated class in y has only 1 members, which is too few. The minimum number of labels for any class cannot be less than n_folds=5.\n",
      "  % (min_labels, self.n_folds)), Warning)\n"
     ]
    }
   ],
   "source": [
    "##Building the model from 5 folds to test the accuracy on the training data set\n",
    "\n",
    "from sklearn.cross_validation import cross_val_score\n",
    "scores = cross_val_score(model, X,y, scoring = 'accuracy', cv=5)\n",
    "\n",
    "print(y_col, 'CV Accuracy {}, Average Accuracy {}'.format(scores, scores.mean()))\n",
    "\n",
    "## nb roc_auc score returns an error when building a multiclass decition tree (auc can only be used for a binary outcome)"
   ]
  },
  {
   "cell_type": "markdown",
   "metadata": {},
   "source": [
    "Update 13/06/2017  \n",
    "I came back to the analysis and removed the multi-colineated variables which improved the accuracy from 0.489 to 0.514 (averaging the cv folds) and predicting the donated amount bin."
   ]
  },
  {
   "cell_type": "markdown",
   "metadata": {},
   "source": [
    "** Visualising the tree ** "
   ]
  },
  {
   "cell_type": "code",
   "execution_count": 147,
   "metadata": {
    "collapsed": true
   },
   "outputs": [],
   "source": [
    "# Helper function to visualize Decision Trees (creates a file tree.png)\n",
    "\n",
    "from sklearn.tree import export_graphviz\n",
    "from os import system \n",
    "def build_tree_image(model):\n",
    "    dotfile = open(\"tree.dot\", 'w') # output a file called tree.dot in active directory \n",
    "    export_graphviz(model,out_file = dotfile,feature_names = X.columns)\n",
    "    dotfile.close()\n",
    "    system(\"dot -Tpng tree.dot -o tree.png\")# this isn't running from python, it is using graphviz to create a png file.\n",
    "build_tree_image(model)\n"
   ]
  },
  {
   "cell_type": "markdown",
   "metadata": {},
   "source": [
    "The above doesn't fully work for me, it produces tree.dot but not the image.\n",
    "\n",
    "To create the png file, run this from the command line\n",
    "navigate using **cd** (change directory) to the active directory python is using (the one you're running the notebook from)\n",
    "\n",
    "**C:\\Users\\BeckyC\\Desktop\\Data Science - GA files\\Final Project>  \n",
    "\"C:\\Program Files (x86)\\Graphviz2.38\\bin\\dot.exe\" -Tpng tree.dot -o tree.png**"
   ]
  },
  {
   "cell_type": "markdown",
   "metadata": {},
   "source": [
    "<img src=\"tree.png\">"
   ]
  },
  {
   "cell_type": "markdown",
   "metadata": {},
   "source": [
    "The values at each node show the;  \n",
    "- Rule being applied.  \n",
    "- The gini shows the precision of the split, values closer to zero show that the rule is better able to distinguish between the different outcomes.  For example if there were 100 samples, and the rule split these in half, then the gini would be 0.5, which shows an inability to split the samples in a way that gets us closer to making an accurate prediction.   \n",
    "- The sample value is the  number of observations included.  \n",
    "- The values represent the 6 bins we are trying to predict.  \n",
    "\n",
    "The original image is saved in the final project folder, opening this you can zoom in and see that as you move from left to right on the leaf nodes (end nodes) the gini increases - this suggests that the tree is better able to classify lower value donations.  This is likely, as the training data set has fewer high value donations to learn from. "
   ]
  },
  {
   "cell_type": "code",
   "execution_count": 98,
   "metadata": {
    "collapsed": false
   },
   "outputs": [
    {
     "data": {
      "text/html": [
       "<div>\n",
       "<table border=\"1\" class=\"dataframe\">\n",
       "  <thead>\n",
       "    <tr style=\"text-align: right;\">\n",
       "      <th></th>\n",
       "      <th>Y</th>\n",
       "      <th>y</th>\n",
       "    </tr>\n",
       "  </thead>\n",
       "  <tbody>\n",
       "    <tr>\n",
       "      <th>0</th>\n",
       "      <td>0</td>\n",
       "      <td>0</td>\n",
       "    </tr>\n",
       "    <tr>\n",
       "      <th>1</th>\n",
       "      <td>5</td>\n",
       "      <td>1</td>\n",
       "    </tr>\n",
       "    <tr>\n",
       "      <th>2</th>\n",
       "      <td>0</td>\n",
       "      <td>0</td>\n",
       "    </tr>\n",
       "    <tr>\n",
       "      <th>3</th>\n",
       "      <td>1</td>\n",
       "      <td>2</td>\n",
       "    </tr>\n",
       "    <tr>\n",
       "      <th>4</th>\n",
       "      <td>4</td>\n",
       "      <td>1</td>\n",
       "    </tr>\n",
       "  </tbody>\n",
       "</table>\n",
       "</div>"
      ],
      "text/plain": [
       "   Y  y\n",
       "0  0  0\n",
       "1  5  1\n",
       "2  0  0\n",
       "3  1  2\n",
       "4  4  1"
      ]
     },
     "execution_count": 98,
     "metadata": {},
     "output_type": "execute_result"
    }
   ],
   "source": [
    "# applying the prediction \n",
    "temp = training_data.copy().dropna()\n",
    "predictions= temp[[y_col]]\n",
    "predictions = predictions.rename(index=str, columns ={y_col:'Y'})\n",
    "predictions['y']= model.predict(X)\n",
    "predictions.head()"
   ]
  },
  {
   "cell_type": "code",
   "execution_count": 10,
   "metadata": {
    "collapsed": false
   },
   "outputs": [
    {
     "name": "stdout",
     "output_type": "stream",
     "text": [
      "bin\n",
      "accuracy 0.524324324324\n"
     ]
    },
    {
     "name": "stderr",
     "output_type": "stream",
     "text": [
      "C:\\Users\\BeckyC\\AppData\\Local\\Continuum\\Anaconda3\\lib\\site-packages\\ipykernel\\__main__.py:7: SettingWithCopyWarning: \n",
      "A value is trying to be set on a copy of a slice from a DataFrame\n",
      "\n",
      "See the caveats in the documentation: http://pandas.pydata.org/pandas-docs/stable/indexing.html#indexing-view-versus-copy\n"
     ]
    }
   ],
   "source": [
    "# fitting model to unseen test_data \n",
    "x_test = test_data.dropna()\n",
    "\n",
    "test_pred= x_test[[y_col]]\n",
    "test_pred = test_pred.rename(index=str, columns ={y_col:'Y'})\n",
    "\n",
    "x_test.drop(['bin', 'donatedamount','fixedprompt','audienceprofile2016','mosaicGroup'],axis=1, inplace=True)\n",
    "\n",
    "##Applying the prediction \n",
    "test_pred['y']=model.predict(x_test)\n",
    "\n",
    "\n",
    "from sklearn import metrics\n",
    "print(y_col)\n",
    "print ('accuracy', metrics.accuracy_score(test_pred.Y, test_pred.y) ) # proportion of correctly made preditions\n",
    "\n"
   ]
  },
  {
   "cell_type": "markdown",
   "metadata": {},
   "source": [
    "When predicting the **donationamount** (continous) the decision tree is able to predict a third of outcomes correctly, that's 482 of 1462.  When tested on the unseen data, the result is similar; **34% of outcomes are correctly predicted**.\n",
    "\n",
    "If I use the **bin** (categorical) which classifies donations into £10 buckets the accuracy improves to 49% (mean score from k=5 CV) and a **53% accuracy** on the unseen data.\n",
    "\n",
    "Does an accuracy around 50%  mean that the prediction is no better than random?  \n",
    "I think it is better than random because we have 11 classes we're trying to predict (or infinite in the case of the continous donated amount).  I think this means that a random model would predict 1/11th correctly (9%) - pick a number between 1 and 11, you have a 9% chance of getting it right.  Therefore 50% is a significant improvement.  \n",
    "\n",
    "I also tested reducing the max_depth (aka the number of features), on the training data set reducing the features had little effect, the accuracy remained just above 50%, however on the test set the accuracy deteriorated to 37%."
   ]
  },
  {
   "cell_type": "code",
   "execution_count": 162,
   "metadata": {
    "collapsed": false
   },
   "outputs": [
    {
     "data": {
      "text/html": [
       "<div>\n",
       "<table border=\"1\" class=\"dataframe\">\n",
       "  <thead>\n",
       "    <tr style=\"text-align: right;\">\n",
       "      <th></th>\n",
       "      <th>Y</th>\n",
       "      <th>y</th>\n",
       "    </tr>\n",
       "    <tr>\n",
       "      <th>pred_10pct</th>\n",
       "      <th></th>\n",
       "      <th></th>\n",
       "    </tr>\n",
       "  </thead>\n",
       "  <tbody>\n",
       "    <tr>\n",
       "      <th>False</th>\n",
       "      <td>273</td>\n",
       "      <td>273</td>\n",
       "    </tr>\n",
       "    <tr>\n",
       "      <th>True</th>\n",
       "      <td>97</td>\n",
       "      <td>97</td>\n",
       "    </tr>\n",
       "  </tbody>\n",
       "</table>\n",
       "</div>"
      ],
      "text/plain": [
       "              Y    y\n",
       "pred_10pct          \n",
       "False       273  273\n",
       "True         97   97"
      ]
     },
     "execution_count": 162,
     "metadata": {},
     "output_type": "execute_result"
    }
   ],
   "source": [
    "def _10pct(Y,y):\n",
    "#     return 1 if  y*0.9 <= Y <=y*1.1 else 0\n",
    "       \n",
    "    if y*0.9 <= Y <=y*1.1:\n",
    "        return True\n",
    "    else:\n",
    "        return False\n",
    "        \n",
    "pred_10pct =[]\n",
    "for index, row in test_pred.iterrows():\n",
    "    pred_10pct.append(_10pct(row['Y'], row['y']))\n",
    "    \n",
    "test_pred['pred_10pct'] = pred_10pct\n",
    "\n",
    "test_pred.groupby('pred_10pct').count()"
   ]
  },
  {
   "cell_type": "markdown",
   "metadata": {},
   "source": [
    "If I add a +/- 10% buffer to the donated amount prediction, it would only include 4 more true positives."
   ]
  },
  {
   "cell_type": "markdown",
   "metadata": {},
   "source": [
    "### Decision Tree feature importance  \n",
    "nb the order of the tree shows the feature importance."
   ]
  },
  {
   "cell_type": "code",
   "execution_count": 164,
   "metadata": {
    "collapsed": false
   },
   "outputs": [
    {
     "name": "stderr",
     "output_type": "stream",
     "text": [
      "C:\\Users\\BeckyC\\AppData\\Local\\Continuum\\Anaconda3\\lib\\site-packages\\ipykernel\\__main__.py:7: FutureWarning: sort(columns=....) is deprecated, use sort_values(by=.....)\n"
     ]
    },
    {
     "data": {
      "text/html": [
       "<div>\n",
       "<table border=\"1\" class=\"dataframe\">\n",
       "  <thead>\n",
       "    <tr style=\"text-align: right;\">\n",
       "      <th></th>\n",
       "      <th>Features</th>\n",
       "      <th>Importance Score</th>\n",
       "    </tr>\n",
       "  </thead>\n",
       "  <tbody>\n",
       "    <tr>\n",
       "      <th>4</th>\n",
       "      <td>lastoneoffamount</td>\n",
       "      <td>0.562352</td>\n",
       "    </tr>\n",
       "    <tr>\n",
       "      <th>2</th>\n",
       "      <td>alldonationsavgl24m</td>\n",
       "      <td>0.332053</td>\n",
       "    </tr>\n",
       "    <tr>\n",
       "      <th>7</th>\n",
       "      <td>monthssincelastdonation</td>\n",
       "      <td>0.083846</td>\n",
       "    </tr>\n",
       "    <tr>\n",
       "      <th>8</th>\n",
       "      <td>pct_last_to_all</td>\n",
       "      <td>0.021749</td>\n",
       "    </tr>\n",
       "    <tr>\n",
       "      <th>0</th>\n",
       "      <td>everpledgeflag</td>\n",
       "      <td>0.000000</td>\n",
       "    </tr>\n",
       "  </tbody>\n",
       "</table>\n",
       "</div>"
      ],
      "text/plain": [
       "                  Features  Importance Score\n",
       "4         lastoneoffamount          0.562352\n",
       "2      alldonationsavgl24m          0.332053\n",
       "7  monthssincelastdonation          0.083846\n",
       "8          pct_last_to_all          0.021749\n",
       "0           everpledgeflag          0.000000"
      ]
     },
     "execution_count": 164,
     "metadata": {},
     "output_type": "execute_result"
    }
   ],
   "source": [
    "model.feature_importances_\n",
    "\n",
    "features = X.columns\n",
    "feature_importances = model.feature_importances_\n",
    "\n",
    "features_df = pd.DataFrame({'Features': features, 'Importance Score': feature_importances})\n",
    "features_df.sort('Importance Score', inplace=True, ascending=False)\n",
    "\n",
    "features_df.head()"
   ]
  },
  {
   "cell_type": "markdown",
   "metadata": {},
   "source": [
    "The important features are similar to those highlighted in the regression analysis. Namely, lastoneoffamount explains the current donation amount best. The most important features are those relating to previous giving and not the mosaic classes.  \n",
    "\n",
    "It looks like **lastoneoffamount and alldonationsavgl24m** could be used without the others, I'll test this, as fewer features will generalise the model which could result in better results on unseen data - update, this lowered the accuracy quite considerably from 50% to 30%.  \n",
    "\n",
    "On the flip side, I increased the depth to **10 features** and the training accuracy to predict the bin was 47%, and test **accuracy 79%**... this was surprising, why had the test accuracy improved so much?"
   ]
  },
  {
   "cell_type": "markdown",
   "metadata": {},
   "source": [
    "### Confusion matrix "
   ]
  },
  {
   "cell_type": "code",
   "execution_count": 11,
   "metadata": {
    "collapsed": false,
    "scrolled": false
   },
   "outputs": [
    {
     "name": "stdout",
     "output_type": "stream",
     "text": [
      "correct 194\n",
      "incorrect 176\n",
      "total 370\n",
      "Axes(0.125,0.125;0.62x0.755)\n"
     ]
    },
    {
     "data": {
      "image/png": "[encoded data removed]",
      "text/plain": [
       "<matplotlib.figure.Figure at 0xb9bb470>"
      ]
     },
     "metadata": {},
     "output_type": "display_data"
    }
   ],
   "source": [
    "print('correct', test_pred[test_pred.Y== test_pred.y].count().Y) \n",
    "print ('incorrect', test_pred[test_pred.Y != test_pred.y].count().Y) \n",
    "print ('total', test_pred.count().Y) \n",
    "\n",
    "print(sns.heatmap(pd.crosstab(test_pred.Y,  #actual\n",
    "                              test_pred.y) # prediction\n",
    "                  ,annot= True))\n"
   ]
  },
  {
   "cell_type": "code",
   "execution_count": 19,
   "metadata": {
    "collapsed": false
   },
   "outputs": [
    {
     "name": "stdout",
     "output_type": "stream",
     "text": [
      "[[70 27  3  0  0  2]\n",
      " [ 9 48  8  0  1  0]\n",
      " [10 59 51  0  4  2]\n",
      " [ 0  9  2  0  5  0]\n",
      " [ 0 15  3  0 12  4]\n",
      " [ 0  4  2  0  7 13]]\n"
     ]
    }
   ],
   "source": [
    "# Confusion Matrix alternative to the crosstab method above: \n",
    "from sklearn.metrics import confusion_matrix\n",
    "matrix = confusion_matrix(test_pred.Y, test_pred.y) \n",
    "print(matrix )\n",
    "\n",
    "# sns.lmplot( 'Y','y', test_pred)"
   ]
  },
  {
   "cell_type": "code",
   "execution_count": 18,
   "metadata": {
    "collapsed": false
   },
   "outputs": [
    {
     "name": "stdout",
     "output_type": "stream",
     "text": [
      "             precision    recall  f1-score   support\n",
      "\n",
      "          0       0.79      0.69      0.73       102\n",
      "          1       0.30      0.73      0.42        66\n",
      "          2       0.74      0.40      0.52       126\n",
      "          3       0.00      0.00      0.00        16\n",
      "          4       0.41      0.35      0.38        34\n",
      "          5       0.62      0.50      0.55        26\n",
      "\n",
      "avg / total       0.60      0.52      0.53       370\n",
      "\n"
     ]
    },
    {
     "name": "stderr",
     "output_type": "stream",
     "text": [
      "C:\\Users\\BeckyC\\AppData\\Local\\Continuum\\Anaconda3\\lib\\site-packages\\sklearn\\metrics\\classification.py:1113: UndefinedMetricWarning: Precision and F-score are ill-defined and being set to 0.0 in labels with no predicted samples.\n",
      "  'precision', 'predicted', average, warn_for)\n"
     ]
    }
   ],
   "source": [
    "## Classification report (summarises precision, recall and F1 score)\n",
    "from sklearn.metrics import classification_report\n",
    "\n",
    "report = classification_report(test_pred.Y, test_pred.y)\n",
    "print(report)"
   ]
  },
  {
   "cell_type": "markdown",
   "metadata": {},
   "source": [
    " **Precision** = The models ability to not label a positive sample as negative;  true positives/ total predicted, eg/ the model correctly identified 70 donations in the bin 0, but falsey predicted 19... 70/89 = 0.79  \n",
    " \n",
    " **Recall** = The models ability to find all positive samples: true positives / total positives, eg/ 70 of a possible 102 were correctly identified as being bin 0.  \n",
    " \n",
    " **F1-score** = the weighted average of precision and recall (1 best, 0 worst). f = 2* (precision*recall)/ (precision+recall). Known as F1 because precision and recall are evenly weighted (other F scores exist).  \n",
    " \n",
    " **Support** = the number of positives (actuals) in each bin."
   ]
  },
  {
   "cell_type": "markdown",
   "metadata": {},
   "source": [
    "<font color =green> See K047 excel sheet \"workings\" for analysis on this. </font>  \n",
    "\n",
    "Commentary based on the Binned model  \n",
    "The model doesn't predict any values for the 3rd bin (£35-40), this bin contains the least (16) observations.   \n",
    "The model falsely predicts  a significant number (114) will donate £12-20 (bin1).\t\t\t\t\t\t\n",
    "The model is most likely to predict a value between bin1 and bin2, which account for 62%.\t\t\t\t\t\t\n",
    "The model is most accurate at identifying those who will donate less than £10 - it only incorrectly associates this donation price with 7% of the sample.\t\t\t\t\t\t\n"
   ]
  },
  {
   "cell_type": "markdown",
   "metadata": {},
   "source": [
    "### Random forests "
   ]
  },
  {
   "cell_type": "code",
   "execution_count": 20,
   "metadata": {
    "collapsed": false
   },
   "outputs": [
    {
     "name": "stderr",
     "output_type": "stream",
     "text": [
      "C:\\Users\\BeckyC\\AppData\\Local\\Continuum\\Anaconda3\\lib\\site-packages\\sklearn\\cross_validation.py:44: DeprecationWarning: This module was deprecated in version 0.18 in favor of the model_selection module into which all the refactored classes and functions are moved. Also note that the interface of the new CV iterators are different from that of this module. This module will be removed in 0.20.\n",
      "  \"This module will be removed in 0.20.\", DeprecationWarning)\n"
     ]
    }
   ],
   "source": [
    "from sklearn.ensemble import RandomForestClassifier\n",
    "from sklearn.cross_validation import cross_val_score"
   ]
  },
  {
   "cell_type": "code",
   "execution_count": 171,
   "metadata": {
    "collapsed": false
   },
   "outputs": [
    {
     "name": "stdout",
     "output_type": "stream",
     "text": [
      "n trees: 1, accuracy [ 0.39877301  0.40657084  0.39917695], Average accuracy 0.40150693425219885\n",
      "n trees: 11, accuracy [ 0.50715746  0.51540041  0.45061728], Average accuracy 0.4910583862803048\n",
      "n trees: 21, accuracy [ 0.50511247  0.54004107  0.46090535], Average accuracy 0.5020196306645578\n",
      "n trees: 31, accuracy [ 0.5194274   0.51540041  0.48353909], Average accuracy 0.5061223027302698\n",
      "n trees: 41, accuracy [ 0.50920245  0.53798768  0.47530864], Average accuracy 0.5074995918781654\n",
      "n trees: 51, accuracy [ 0.50306748  0.54004107  0.46502058], Average accuracy 0.5027097095186903\n",
      "n trees: 61, accuracy [ 0.52351738  0.54004107  0.47942387], Average accuracy 0.514327439495884\n",
      "n trees: 71, accuracy [ 0.52760736  0.55030801  0.46707819], Average accuracy 0.5149978531590513\n",
      "n trees: 81, accuracy [ 0.53783231  0.52361396  0.47942387], Average accuracy 0.5136233807300725\n",
      "n trees: 91, accuracy [ 0.52147239  0.5338809   0.46502058], Average accuracy 0.5067912907534946\n"
     ]
    }
   ],
   "source": [
    "## Calculate optimal number of trees... \n",
    "\n",
    "#NB X and y set further up the script.\n",
    "for n_trees in range(1, 100, 10):\n",
    "    model = RandomForestClassifier(n_estimators = n_trees) # Number of trees to build\n",
    "    scores = cross_val_score(model, X, y, scoring='accuracy')\n",
    "    print('n trees: {}, accuracy {}, Average accuracy {}'.format(n_trees, scores, scores.mean()))"
   ]
  },
  {
   "cell_type": "markdown",
   "metadata": {},
   "source": [
    "The above tells me that 51 trees returns the highest accuracy, based on predicting the donatedamount this is **34.7%**.  \n",
    "Based on predicting the bin 71 trees is optimal with an accuracy of **51%** (nb this is similar to the singular decision tree built further up)."
   ]
  },
  {
   "cell_type": "code",
   "execution_count": 172,
   "metadata": {
    "collapsed": false
   },
   "outputs": [
    {
     "name": "stdout",
     "output_type": "stream",
     "text": [
      "max_depth 1\n",
      "bin CV Accuracy [ 0.4779661   0.51535836  0.50684932  0.43642612  0.51202749], Average Accuracy 0.489725477357115\n",
      "oob accuracy score: 0.495212038304\n",
      "max_depth 2\n",
      "bin CV Accuracy [ 0.50508475  0.51535836  0.53082192  0.51202749  0.51202749], Average Accuracy 0.5150640016327089\n",
      "oob accuracy score: 0.513679890561\n",
      "max_depth 3\n",
      "bin CV Accuracy [ 0.53898305  0.52901024  0.54109589  0.52920962  0.51202749], Average Accuracy 0.5300652587136656\n",
      "oob accuracy score: 0.52804377565\n",
      "max_depth 4\n",
      "bin CV Accuracy [ 0.53559322  0.54948805  0.55136986  0.51546392  0.51202749], Average Accuracy 0.5327885093789796\n",
      "oob accuracy score: 0.532831737346\n",
      "max_depth 5\n",
      "bin CV Accuracy [ 0.53559322  0.55290102  0.55821918  0.51546392  0.52233677], Average Accuracy 0.5369028219194366\n",
      "oob accuracy score: 0.530779753762\n",
      "max_depth 6\n",
      "bin CV Accuracy [ 0.55932203  0.55972696  0.55479452  0.49140893  0.50171821], Average Accuracy 0.5333941329339822\n",
      "oob accuracy score: 0.534199726402\n",
      "max_depth 7\n",
      "bin CV Accuracy [ 0.56610169  0.55972696  0.54109589  0.49828179  0.48453608], Average Accuracy 0.5299484834398718\n",
      "oob accuracy score: 0.534199726402\n",
      "max_depth 8\n",
      "bin CV Accuracy [ 0.54576271  0.55290102  0.56506849  0.48797251  0.50859107], Average Accuracy 0.5320591605578076\n",
      "oob accuracy score: 0.525307797538\n",
      "max_depth 9\n",
      "bin CV Accuracy [ 0.54576271  0.55290102  0.55479452  0.49140893  0.51546392], Average Accuracy 0.5320662217073627\n",
      "oob accuracy score: 0.523939808482\n",
      "max_depth 10\n",
      "bin CV Accuracy [ 0.56271186  0.55290102  0.52054795  0.49140893  0.48109966], Average Accuracy 0.5217338849136672\n",
      "oob accuracy score: 0.522571819425\n",
      "max_depth 11\n",
      "bin CV Accuracy [ 0.56271186  0.54607509  0.53767123  0.4604811   0.49140893], Average Accuracy 0.519669643394397\n",
      "oob accuracy score: 0.52462380301\n"
     ]
    }
   ],
   "source": [
    "## Picking the optimal depth (number of features)\n",
    "depths =  range(1,12,1)\n",
    "for d in depths:\n",
    "    model = RandomForestClassifier(n_estimators = 50, # Number of trees \n",
    "                               oob_score=True,max_depth = d) \n",
    "    model.fit(X, y)\n",
    "\n",
    "    #Cross validation\n",
    "    scores = cross_val_score(model, X, y,  scoring ='accuracy', cv=5)\n",
    "    print('max_depth', d)\n",
    "    print(y_col, 'CV Accuracy {}, Average Accuracy {}'.format(scores, scores.mean()))\n",
    "    print('oob accuracy score:', model.oob_score_)"
   ]
  },
  {
   "cell_type": "markdown",
   "metadata": {},
   "source": [
    "Predicting donatedamount using 50 trees and no max_depth, results in accuracy of **34.59%** (using cv, k=5).  \n",
    "Reducing **max_depth to 10** (from all 29 features), improved the accuracy to **35.62%**.  \n",
    "The above suggest the **max depth of 6**, which results in an accuracy of **37.37%**\n",
    "\n",
    "Predicting the donatedamount **bin** has an accuracy of **53.42%** with a max_depth of 6.\n"
   ]
  },
  {
   "cell_type": "markdown",
   "metadata": {},
   "source": [
    "### Feature importance"
   ]
  },
  {
   "cell_type": "code",
   "execution_count": 174,
   "metadata": {
    "collapsed": false
   },
   "outputs": [
    {
     "name": "stdout",
     "output_type": "stream",
     "text": [
      "                  Features  Importance Score\n",
      "2      alldonationsavgl24m          0.218007\n",
      "4         lastoneoffamount          0.164715\n",
      "3                   allltv          0.136630\n",
      "7  monthssincelastdonation          0.127281\n",
      "8          pct_last_to_all          0.124801\n",
      "6        lifetimedonations          0.090004\n",
      "9           mosaicGroupInt          0.085857\n",
      "1         lastdonationemer          0.024251\n",
      "5             lastoneoffga          0.020424\n",
      "0           everpledgeflag          0.008029\n",
      "y= bin , number of classes to predict:  6\n",
      "number of features: 10\n"
     ]
    },
    {
     "name": "stderr",
     "output_type": "stream",
     "text": [
      "C:\\Users\\BeckyC\\AppData\\Local\\Continuum\\Anaconda3\\lib\\site-packages\\ipykernel\\__main__.py:6: FutureWarning: sort(columns=....) is deprecated, use sort_values(by=.....)\n"
     ]
    }
   ],
   "source": [
    "# Feature importance\n",
    "features = X.columns\n",
    "feature_importances = model.feature_importances_\n",
    "\n",
    "features_df = pd.DataFrame({'Features': features, 'Importance Score': feature_importances})\n",
    "features_df.sort('Importance Score', inplace=True, ascending=False)\n",
    "\n",
    "print(features_df.head(10))\n",
    "print ('y=',y_col, ', number of classes to predict: ', model.n_classes_) \n",
    "print('number of features:', model.n_features_)\n"
   ]
  },
  {
   "cell_type": "code",
   "execution_count": 175,
   "metadata": {
    "collapsed": false
   },
   "outputs": [
    {
     "name": "stdout",
     "output_type": "stream",
     "text": [
      "n_features: 8\n",
      "row_0\n",
      "alldonationsavgl24m        1\n",
      "allltv                     1\n",
      "lastdonationemer           1\n",
      "lastoneoffamount           1\n",
      "lifetimedonations          1\n",
      "monthssincelastdonation    1\n",
      "mosaicGroupInt             1\n",
      "pct_last_to_all            1\n",
      "lastoneoffga               2\n",
      "everpledgeflag             3\n",
      "Name: __dummy__, dtype: int32\n",
      "Optimal number of features : 8\n"
     ]
    },
    {
     "data": {
      "image/png": "[encoded data removed]",
      "text/plain": [
       "<matplotlib.figure.Figure at 0xc787198>"
      ]
     },
     "metadata": {},
     "output_type": "display_data"
    }
   ],
   "source": [
    "# Recursive feature elimination\n",
    "\n",
    "# Sklearn provides RFE for recursive feature elimination \n",
    "# and RFECV for finding the ranks together with optimal number of features via a cross validation loop.\n",
    "\n",
    "from sklearn.feature_selection import RFECV\n",
    "from sklearn.model_selection import StratifiedKFold\n",
    "# model = linear_model.LinearRegression()\n",
    "# X = training_data.ix[0:, 1:] \n",
    "# y= training_data['donatedamount']\n",
    "\n",
    "# while n_features >2:\n",
    "rfe = RFECV(model, step=1, scoring = 'accuracy',cv= StratifiedKFold(5)) \n",
    "rfe = rfe.fit(X, y)\n",
    "\n",
    "print('n_features:', rfe.n_features_)\n",
    "print(pd.crosstab(X.columns,'', values=rfe.ranking_, aggfunc='max').sort_values(ascending=True))\n",
    "\n",
    "print(\"Optimal number of features : %d\" % rfe.n_features_)\n",
    "\n",
    "# Plot number of features VS. cross-val accuracy score\n",
    "plt.figure()\n",
    "plt.xlabel(\"Number of features selected\")\n",
    "plt.ylabel(\"Accuracy (CV score)\")\n",
    "plt.plot(range(1, len(rfe.grid_scores_) + 1), rfe.grid_scores_)\n",
    "plt.show()\n"
   ]
  },
  {
   "cell_type": "markdown",
   "metadata": {},
   "source": [
    "Accuracy tends to peak when c.15 features are selected... "
   ]
  },
  {
   "cell_type": "markdown",
   "metadata": {},
   "source": [
    "### Final model"
   ]
  },
  {
   "cell_type": "code",
   "execution_count": 21,
   "metadata": {
    "collapsed": true
   },
   "outputs": [],
   "source": [
    "## Set X and y, then run each code section below.\n",
    "\n",
    "y_col = 'bin' # 'donatedamount' or 'bin'\n",
    "x_col = [y_col,\n",
    "#          'alldonationsavgl24m', 'oneoffltv','oneoffdonationsl24m','oneoffavgdonatedlast24m','mosaic_M','mosaic_L',\n",
    "#          'mosaic_I','mosaic_G','mosaic_F' ,'pct_last_to_all','mosaic_D','mosaic_C','mosaic_E','mosaic_A'\n",
    "#          ,'monthssincelastoneoff']\n",
    "\n",
    "            'alldonationsavgl24m','allltv','lastdonationemer','lastoneoffamount','lifetimedonations', \n",
    "             'monthssincelastdonation', 'mosaicGroupInt','pct_last_to_all']\n"
   ]
  },
  {
   "cell_type": "code",
   "execution_count": 22,
   "metadata": {
    "collapsed": false
   },
   "outputs": [
    {
     "name": "stdout",
     "output_type": "stream",
     "text": [
      "predicting bin\n",
      "CV Accuracy [ 0.54915254  0.54948805  0.55136986  0.50171821  0.50859107], Average Accuracy 0.5320639476689208\n",
      "oob accuracy score: 0.533515731874\n"
     ]
    }
   ],
   "source": [
    "\n",
    "X = training_data[x_col].dropna()\n",
    "y = X[y_col]\n",
    "X.drop([y_col], axis=1, inplace=True)\n",
    "\n",
    "model = RandomForestClassifier(n_estimators = 70, # Number of trees \n",
    "                           oob_score=True,max_depth = 8) \n",
    "model.fit(X, y)\n",
    "\n",
    "#Cross validation\n",
    "scores = cross_val_score(model, X, y,  scoring ='accuracy', cv=5)\n",
    "print('predicting',y_col) \n",
    "print('CV Accuracy {}, Average Accuracy {}'.format(scores, scores.mean()))\n",
    "print('oob accuracy score:', model.oob_score_)"
   ]
  },
  {
   "cell_type": "code",
   "execution_count": 23,
   "metadata": {
    "collapsed": false
   },
   "outputs": [
    {
     "name": "stdout",
     "output_type": "stream",
     "text": [
      "bin\n",
      "accuracy 0.651351351351\n"
     ]
    }
   ],
   "source": [
    "## testing the final model on the unseen data \n",
    "X_test = test_data[x_col].dropna()\n",
    "Y = X_test[y_col]\n",
    "X_test.drop([y_col], axis=1, inplace=True)\n",
    "\n",
    "print(y_col)\n",
    "print ('accuracy', metrics.accuracy_score(Y, model.predict(X_test)) ) # proportion of correctly made preditions\n",
    "# predictions[predictions.Y== predictions.y]\n"
   ]
  },
  {
   "cell_type": "code",
   "execution_count": 1,
   "metadata": {
    "collapsed": false
   },
   "outputs": [
    {
     "ename": "NameError",
     "evalue": "name 'classification_report' is not defined",
     "output_type": "error",
     "traceback": [
      "\u001b[0;31m---------------------------------------------------------------------------\u001b[0m",
      "\u001b[0;31mNameError\u001b[0m                                 Traceback (most recent call last)",
      "\u001b[0;32m<ipython-input-1-16ef6771d95e>\u001b[0m in \u001b[0;36m<module>\u001b[0;34m()\u001b[0m\n\u001b[0;32m----> 1\u001b[0;31m \u001b[0mreport\u001b[0m \u001b[1;33m=\u001b[0m \u001b[0mclassification_report\u001b[0m\u001b[1;33m(\u001b[0m\u001b[0mY\u001b[0m\u001b[1;33m,\u001b[0m \u001b[0mmodel\u001b[0m\u001b[1;33m.\u001b[0m\u001b[0mpredict\u001b[0m\u001b[1;33m(\u001b[0m\u001b[0mX_test\u001b[0m\u001b[1;33m)\u001b[0m\u001b[1;33m)\u001b[0m\u001b[1;33m\u001b[0m\u001b[0m\n\u001b[0m\u001b[1;32m      2\u001b[0m \u001b[0mprint\u001b[0m\u001b[1;33m(\u001b[0m\u001b[0mreport\u001b[0m\u001b[1;33m)\u001b[0m\u001b[1;33m\u001b[0m\u001b[0m\n",
      "\u001b[0;31mNameError\u001b[0m: name 'classification_report' is not defined"
     ]
    }
   ],
   "source": [
    "report = classification_report(Y, model.predict(X_test))\n",
    "print(report)"
   ]
  },
  {
   "cell_type": "markdown",
   "metadata": {},
   "source": [
    "Commenting on predicting the continuous donatedamount: When predicting donatedamount the accuracy drops significantly on the test set to 26.8% vs the training set 35.4%.  \n",
    "When predicting the binned donatedamount the accuracy is 54.1% on the training set, which increases to 64.3% on the test set."
   ]
  },
  {
   "cell_type": "code",
   "execution_count": 180,
   "metadata": {
    "collapsed": false
   },
   "outputs": [
    {
     "name": "stdout",
     "output_type": "stream",
     "text": [
      "370\n"
     ]
    },
    {
     "name": "stderr",
     "output_type": "stream",
     "text": [
      "C:\\Users\\BeckyC\\AppData\\Local\\Continuum\\Anaconda3\\lib\\site-packages\\numpy\\lib\\function_base.py:564: VisibleDeprecationWarning: using a non-integer number instead of an integer will result in an error in the future\n",
      "  n = np.zeros(bins, ntype)\n",
      "C:\\Users\\BeckyC\\AppData\\Local\\Continuum\\Anaconda3\\lib\\site-packages\\numpy\\lib\\function_base.py:611: VisibleDeprecationWarning: using a non-integer number instead of an integer will result in an error in the future\n",
      "  n += np.bincount(indices, weights=tmp_w, minlength=bins).astype(ntype)\n"
     ]
    },
    {
     "data": {
      "text/plain": [
       "0.33513513513513515"
      ]
     },
     "execution_count": 180,
     "metadata": {},
     "output_type": "execute_result"
    },
    {
     "data": {
      "image/png": "[encoded data removed]",
      "text/plain": [
       "<matplotlib.figure.Figure at 0xc129048>"
      ]
     },
     "metadata": {},
     "output_type": "display_data"
    }
   ],
   "source": [
    "# actual Y minus predicted y for **donatedamount**\n",
    "residuals = (Y -model.predict(X_test))\n",
    "plt.figure()\n",
    "plt.hist(residuals, bins=np.ceil(np.sqrt(len(y))))\n",
    "print(len(X_test))\n",
    "\n",
    "(Y -model.predict(X_test)).mean()"
   ]
  },
  {
   "cell_type": "code",
   "execution_count": 70,
   "metadata": {
    "collapsed": false
   },
   "outputs": [
    {
     "name": "stderr",
     "output_type": "stream",
     "text": [
      "C:\\Users\\BeckyC\\AppData\\Local\\Continuum\\Anaconda3\\lib\\site-packages\\numpy\\lib\\function_base.py:564: VisibleDeprecationWarning: using a non-integer number instead of an integer will result in an error in the future\n",
      "  n = np.zeros(bins, ntype)\n",
      "C:\\Users\\BeckyC\\AppData\\Local\\Continuum\\Anaconda3\\lib\\site-packages\\numpy\\lib\\function_base.py:611: VisibleDeprecationWarning: using a non-integer number instead of an integer will result in an error in the future\n",
      "  n += np.bincount(indices, weights=tmp_w, minlength=bins).astype(ntype)\n"
     ]
    },
    {
     "data": {
      "text/plain": [
       "(array([   1.,    0.,    1.,    0.,    0.,    2.,    0.,    0.,    1.,\n",
       "           0.,    0.,   10.,  136.,   76.,   82.,    7.,   14.,   25.,\n",
       "           1.,    4.,    0.,    0.,    0.,    1.,    5.,    0.,    0.,\n",
       "           0.,    0.,    0.,    0.,    0.,    0.,    0.,    1.,    0.,\n",
       "           0.,    0.,    1.]),\n",
       " array([ -90.        ,  -82.94871795,  -75.8974359 ,  -68.84615385,\n",
       "         -61.79487179,  -54.74358974,  -47.69230769,  -40.64102564,\n",
       "         -33.58974359,  -26.53846154,  -19.48717949,  -12.43589744,\n",
       "          -5.38461538,    1.66666667,    8.71794872,   15.76923077,\n",
       "          22.82051282,   29.87179487,   36.92307692,   43.97435897,\n",
       "          51.02564103,   58.07692308,   65.12820513,   72.17948718,\n",
       "          79.23076923,   86.28205128,   93.33333333,  100.38461538,\n",
       "         107.43589744,  114.48717949,  121.53846154,  128.58974359,\n",
       "         135.64102564,  142.69230769,  149.74358974,  156.79487179,\n",
       "         163.84615385,  170.8974359 ,  177.94871795,  185.        ]),\n",
       " <a list of 39 Patch objects>)"
      ]
     },
     "execution_count": 70,
     "metadata": {},
     "output_type": "execute_result"
    },
    {
     "data": {
      "image/png": "[encoded data removed]",
      "text/plain": [
       "<matplotlib.figure.Figure at 0xd638748>"
      ]
     },
     "metadata": {},
     "output_type": "display_data"
    }
   ],
   "source": [
    "# Residuals with the outliers removed - deleted residuals at £900 and £850\n",
    "\n",
    "# residuals[residuals==900]\n",
    "# residuals.drop(148, axis=0, inplace=True)\n",
    "\n",
    "plt.figure()\n",
    "plt.hist(residuals, bins=np.ceil(np.sqrt(len(y))))\n",
    "residuals.groupby(residuals).count()"
   ]
  },
  {
   "cell_type": "code",
   "execution_count": 181,
   "metadata": {
    "collapsed": false
   },
   "outputs": [
    {
     "name": "stdout",
     "output_type": "stream",
     "text": [
      "370\n"
     ]
    },
    {
     "name": "stderr",
     "output_type": "stream",
     "text": [
      "C:\\Users\\BeckyC\\AppData\\Local\\Continuum\\Anaconda3\\lib\\site-packages\\numpy\\lib\\function_base.py:564: VisibleDeprecationWarning: using a non-integer number instead of an integer will result in an error in the future\n",
      "  n = np.zeros(bins, ntype)\n",
      "C:\\Users\\BeckyC\\AppData\\Local\\Continuum\\Anaconda3\\lib\\site-packages\\numpy\\lib\\function_base.py:611: VisibleDeprecationWarning: using a non-integer number instead of an integer will result in an error in the future\n",
      "  n += np.bincount(indices, weights=tmp_w, minlength=bins).astype(ntype)\n"
     ]
    },
    {
     "data": {
      "text/plain": [
       "0.33513513513513515"
      ]
     },
     "execution_count": 181,
     "metadata": {},
     "output_type": "execute_result"
    },
    {
     "data": {
      "image/png": "[encoded data removed]",
      "text/plain": [
       "<matplotlib.figure.Figure at 0xc2d15f8>"
      ]
     },
     "metadata": {},
     "output_type": "display_data"
    }
   ],
   "source": [
    "# actual Y minus predicted y for **binned donatedamount**\n",
    "residuals = (Y -model.predict(X_test))\n",
    "plt.figure()\n",
    "plt.hist(residuals, bins=np.ceil(np.sqrt(len(y))))\n",
    "print(len(X_test))\n",
    "(Y -model.predict(X_test)).mean()"
   ]
  },
  {
   "cell_type": "markdown",
   "metadata": {},
   "source": [
    "At first it appears like the binned model has a wider residual spread, however the axis is deceiving as outlier values are  highlighted on a more concise axis.  \n",
    "The mean residual error on the donatedamount model (£13.72) isn't comparable with the mean residual error on the binned model (0.83)- this suggests 0.83 of £10 plus value of the £100+ bin. "
   ]
  },
  {
   "cell_type": "code",
   "execution_count": 199,
   "metadata": {
    "collapsed": false
   },
   "outputs": [
    {
     "name": "stdout",
     "output_type": "stream",
     "text": [
      "pred_bin   0   1   2  3   4   5\n",
      "bin                            \n",
      "0         77  23   1  0   0   1\n",
      "1          3  62   1  0   0   0\n",
      "2          7  56  62  0   1   0\n",
      "3          0   6   7  2   1   0\n",
      "4          0  11   3  0  18   2\n",
      "5          0   4   4  0   1  17\n"
     ]
    },
    {
     "data": {
      "image/png": "[encoded data removed]",
      "text/plain": [
       "<matplotlib.figure.Figure at 0xbb53240>"
      ]
     },
     "metadata": {},
     "output_type": "display_data"
    }
   ],
   "source": [
    "#  model.predict(X_test)\n",
    "predictions = pd.DataFrame(Y) \n",
    "predictions['pred_bin']  = model.predict(X_test)\n",
    "predictions.head()\n",
    "\n",
    "sns.lmplot( 'bin','pred_bin', predictions)\n",
    "print(pd.crosstab(predictions.bin, predictions.pred_bin))"
   ]
  },
  {
   "cell_type": "markdown",
   "metadata": {},
   "source": [
    "### Feedback \n",
    "\n",
    "Colin Crawford\n",
    "Nice work/process and understanding. Very clear layout.\n",
    "\n",
    "Pandas has an inbuilt function (pd.cut) which can create bins for you, although it is based on the distribution of the data so not as clean.\n",
    "\n",
    "What could be useful with the clustering is being able to forecast what characteristics a new donated will be based on their similarities to other people within their cluster, this would allow you to target them appropriately and forecast their giving.\n",
    "\n",
    "You are correct when comparing your accuracy with the base. You should also look at some other other metrics and have a think about whether they would be useful. **A confusion matrix would help you to understand where you errors are.(are you mistaking a £90 for a £100 or for a £10?)**\n",
    "\n",
    "<font color=red> What does this mean? </font>When it comes to estimators, don’t be scared to go higher especially if your grid search returns a result on one of your bounds. Estimators tend to usually lie between 100-1000 or even higher, but at some point it will start to overfit. "
   ]
  },
  {
   "cell_type": "markdown",
   "metadata": {},
   "source": [
    "Updated after the course; To assess whether the random forest performed better or worse than the earlier linear regression model, I converted the linear model output into a confusion matrix, which allows me to compare the two models;"
   ]
  },
  {
   "cell_type": "markdown",
   "metadata": {},
   "source": [
    "<img src=\"linear regression confusion matrix.png\">"
   ]
  },
  {
   "cell_type": "markdown",
   "metadata": {},
   "source": [
    "I could then compare the residuals... "
   ]
  },
  {
   "cell_type": "markdown",
   "metadata": {},
   "source": [
    "<img src=\"Residuals.png\">"
   ]
  },
  {
   "cell_type": "markdown",
   "metadata": {},
   "source": [
    "Which shows that the random forest model is more centred around zero (less error).   \n",
    "A negative residual occurs when the prediction is bigger than the actual donation bin. This occurs 91 times in the regression model, and is arguably the more dangerous error that may deter a supporter from giving."
   ]
  }
 ],
 "metadata": {
  "kernelspec": {
   "display_name": "Python 3",
   "language": "python",
   "name": "python3"
  },
  "language_info": {
   "codemirror_mode": {
    "name": "ipython",
    "version": 3
   },
   "file_extension": ".py",
   "mimetype": "text/x-python",
   "name": "python",
   "nbconvert_exporter": "python",
   "pygments_lexer": "ipython3",
   "version": "3.6.0"
  }
 },
 "nbformat": 4,
 "nbformat_minor": 2
}
