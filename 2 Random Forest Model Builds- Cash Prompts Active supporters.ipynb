{
 "cells": [
  {
   "cell_type": "markdown",
   "metadata": {},
   "source": [
    "### Random Forest models to predict donated value \n",
    "This notebook applies non-linear Random Forest models and  evaluation metrics to a sample of supporters from the active  cash audience who were prompted with a fixed £20 ask in the June Cash Appeal mailing and responded.     \n",
    "\n",
    "The data has been prepared in the jupyter notebook \"Cash donations revisited - exploratory analysis Aug-17\" and imported as a CSV here.  "
   ]
  },
  {
   "cell_type": "code",
   "execution_count": 1,
   "metadata": {
    "collapsed": false
   },
   "outputs": [],
   "source": [
    "import pandas as pd \n",
    "import numpy as np \n",
    "df = pd.read_csv('//file path.../K037_fixed_cash_model_inputv2.csv')\n",
    "\n",
    "\n",
    "import matplotlib.pyplot as plt\n",
    "import seaborn as sns\n",
    "%matplotlib inline\n",
    "from sklearn import datasets, neighbors, metrics\n"
   ]
  },
  {
   "cell_type": "code",
   "execution_count": 100,
   "metadata": {
    "collapsed": false
   },
   "outputs": [
    {
     "data": {
      "text/html": [
       "<div>\n",
       "<table border=\"1\" class=\"dataframe\">\n",
       "  <thead>\n",
       "    <tr style=\"text-align: right;\">\n",
       "      <th></th>\n",
       "      <th>donatedamount</th>\n",
       "      <th>alldonationsavgl24m</th>\n",
       "      <th>allltv</th>\n",
       "      <th>mosaicGroup</th>\n",
       "      <th>C</th>\n",
       "      <th>audienceprofile2016</th>\n",
       "      <th>Upwardly Urban</th>\n",
       "      <th>sample</th>\n",
       "    </tr>\n",
       "  </thead>\n",
       "  <tbody>\n",
       "    <tr>\n",
       "      <th>0</th>\n",
       "      <td>20.0</td>\n",
       "      <td>19.0000</td>\n",
       "      <td>350.0</td>\n",
       "      <td>B</td>\n",
       "      <td>0</td>\n",
       "      <td>Wealthy Wellwishers</td>\n",
       "      <td>0</td>\n",
       "      <td>train</td>\n",
       "    </tr>\n",
       "    <tr>\n",
       "      <th>1</th>\n",
       "      <td>20.0</td>\n",
       "      <td>23.0000</td>\n",
       "      <td>202.0</td>\n",
       "      <td>E</td>\n",
       "      <td>0</td>\n",
       "      <td>Not in target</td>\n",
       "      <td>0</td>\n",
       "      <td>train</td>\n",
       "    </tr>\n",
       "    <tr>\n",
       "      <th>2</th>\n",
       "      <td>30.0</td>\n",
       "      <td>32.1428</td>\n",
       "      <td>961.0</td>\n",
       "      <td>J</td>\n",
       "      <td>0</td>\n",
       "      <td>Not in target</td>\n",
       "      <td>0</td>\n",
       "      <td>train</td>\n",
       "    </tr>\n",
       "    <tr>\n",
       "      <th>3</th>\n",
       "      <td>30.0</td>\n",
       "      <td>30.0000</td>\n",
       "      <td>2320.0</td>\n",
       "      <td>C</td>\n",
       "      <td>1</td>\n",
       "      <td>Rapid Responders</td>\n",
       "      <td>0</td>\n",
       "      <td>train</td>\n",
       "    </tr>\n",
       "    <tr>\n",
       "      <th>4</th>\n",
       "      <td>20.0</td>\n",
       "      <td>26.6666</td>\n",
       "      <td>816.0</td>\n",
       "      <td>C</td>\n",
       "      <td>1</td>\n",
       "      <td>Rapid Responders</td>\n",
       "      <td>0</td>\n",
       "      <td>train</td>\n",
       "    </tr>\n",
       "  </tbody>\n",
       "</table>\n",
       "</div>"
      ],
      "text/plain": [
       "   donatedamount  alldonationsavgl24m  allltv mosaicGroup  C  \\\n",
       "0           20.0              19.0000   350.0           B  0   \n",
       "1           20.0              23.0000   202.0           E  0   \n",
       "2           30.0              32.1428   961.0           J  0   \n",
       "3           30.0              30.0000  2320.0           C  1   \n",
       "4           20.0              26.6666   816.0           C  1   \n",
       "\n",
       "   audienceprofile2016  Upwardly Urban sample  \n",
       "0  Wealthy Wellwishers               0  train  \n",
       "1        Not in target               0  train  \n",
       "2        Not in target               0  train  \n",
       "3     Rapid Responders               0  train  \n",
       "4     Rapid Responders               0  train  "
      ]
     },
     "execution_count": 100,
     "metadata": {},
     "output_type": "execute_result"
    }
   ],
   "source": [
    "df.head()\n",
    "df.isnull().sum()"
   ]
  },
  {
   "cell_type": "code",
   "execution_count": 2,
   "metadata": {
    "collapsed": false
   },
   "outputs": [],
   "source": [
    "## Tidying up the data... \n",
    "\n",
    "##Exporting to CSV copied the pandas index field which isn't needed\n",
    "df.drop('Unnamed: 0', axis = 1, inplace = True)\n",
    "\n",
    "## filling 7 supporters null mosaic group with U (unknown)\n",
    "df['mosaicGroup'] = df['mosaicGroup'].fillna('U')\n",
    "df['audienceprofile2016'] = df['audienceprofile2016'].fillna('Not in target')"
   ]
  },
  {
   "cell_type": "markdown",
   "metadata": {},
   "source": [
    "### Correlation"
   ]
  },
  {
   "cell_type": "code",
   "execution_count": 3,
   "metadata": {
    "collapsed": false
   },
   "outputs": [
    {
     "data": {
      "text/plain": [
       "<matplotlib.axes._subplots.AxesSubplot at 0xa629e48>"
      ]
     },
     "execution_count": 3,
     "metadata": {},
     "output_type": "execute_result"
    },
    {
     "data": {
      "image/png": "[encoded data removed]",
      "text/plain": [
       "<matplotlib.figure.Figure at 0x4d6ae80>"
      ]
     },
     "metadata": {},
     "output_type": "display_data"
    }
   ],
   "source": [
    "sns.heatmap(df.corr(), annot=True,fmt ='.2f') "
   ]
  },
  {
   "cell_type": "markdown",
   "metadata": {},
   "source": [
    "Multi-colinearity in random forest should also be avoided.\n",
    "\n",
    "all ltv and all donations avg l24m show some correlation, but I don't think its high enough (0.41) to exclude one of the features."
   ]
  },
  {
   "cell_type": "code",
   "execution_count": 3,
   "metadata": {
    "collapsed": false
   },
   "outputs": [
    {
     "name": "stdout",
     "output_type": "stream",
     "text": [
      "148.0\n"
     ]
    },
    {
     "data": {
      "text/html": [
       "<div>\n",
       "<table border=\"1\" class=\"dataframe\">\n",
       "  <thead>\n",
       "    <tr style=\"text-align: right;\">\n",
       "      <th></th>\n",
       "      <th>donatedamount</th>\n",
       "      <th>alldonationsavgl24m</th>\n",
       "      <th>allltv</th>\n",
       "      <th>mosaicGroup</th>\n",
       "      <th>C</th>\n",
       "      <th>audienceprofile2016</th>\n",
       "      <th>Upwardly Urban</th>\n",
       "      <th>sample</th>\n",
       "    </tr>\n",
       "  </thead>\n",
       "  <tbody>\n",
       "    <tr>\n",
       "      <th>0</th>\n",
       "      <td>20.0</td>\n",
       "      <td>19.0</td>\n",
       "      <td>350.0</td>\n",
       "      <td>B</td>\n",
       "      <td>0</td>\n",
       "      <td>Wealthy Wellwishers</td>\n",
       "      <td>0</td>\n",
       "      <td>train</td>\n",
       "    </tr>\n",
       "  </tbody>\n",
       "</table>\n",
       "</div>"
      ],
      "text/plain": [
       "   donatedamount  alldonationsavgl24m  allltv mosaicGroup  C  \\\n",
       "0           20.0                 19.0   350.0           B  0   \n",
       "\n",
       "   audienceprofile2016  Upwardly Urban sample  \n",
       "0  Wealthy Wellwishers               0  train  "
      ]
     },
     "execution_count": 3,
     "metadata": {},
     "output_type": "execute_result"
    }
   ],
   "source": [
    "## create test and training set - 80/20 should be ok as i am also using cross validation.\n",
    "print(len(df)*0.8) \n",
    "\n",
    "# adding sample variable to the original dataframe, and updating with test and train.\n",
    "df['sample'] ='test'\n",
    "df.iloc[:148, 7:8]= 'train'\n",
    "\n",
    "# and also separate dataframes; \n",
    "trn = df[:148] #training data \n",
    "tst = df[148:185] # test data \n",
    "\n",
    "df.head(1)"
   ]
  },
  {
   "cell_type": "markdown",
   "metadata": {},
   "source": [
    "## Stability Analysis\n",
    "Mindful mums only populate bins 1 to 4 (up to £40). The second bin (£10-20) is the most common across all profiles.  Unclassified's unsual dist can be explained by the low vol of supporters (6).  WW and RR are more likely to give £100."
   ]
  },
  {
   "cell_type": "code",
   "execution_count": 143,
   "metadata": {
    "collapsed": false
   },
   "outputs": [
    {
     "name": "stderr",
     "output_type": "stream",
     "text": [
      "C:\\Users\\BeckyC\\AppData\\Local\\Continuum\\Anaconda3\\lib\\site-packages\\statsmodels\\nonparametric\\kdetools.py:20: VisibleDeprecationWarning: using a non-integer number instead of an integer will result in an error in the future\n",
      "  y = X[:m/2+1] + np.r_[0,X[m/2+1:],0]*1j\n"
     ]
    },
    {
     "data": {
      "image/png": "[encoded data removed]",
      "text/plain": [
       "<matplotlib.figure.Figure at 0xdbf32e8>"
      ]
     },
     "metadata": {},
     "output_type": "display_data"
    }
   ],
   "source": [
    "sns.set_style(\"white\")\n",
    "sns.distplot( trn['alldonationsavgl24m'],label='train')\n",
    "sns.distplot( tst['alldonationsavgl24m'], label='test')\n",
    "plt.title('All Donations Avg Last 24 Months')\n",
    "plt.legend() \n",
    "plt.show()"
   ]
  },
  {
   "cell_type": "code",
   "execution_count": 142,
   "metadata": {
    "collapsed": false
   },
   "outputs": [
    {
     "name": "stderr",
     "output_type": "stream",
     "text": [
      "C:\\Users\\BeckyC\\AppData\\Local\\Continuum\\Anaconda3\\lib\\site-packages\\statsmodels\\nonparametric\\kdetools.py:20: VisibleDeprecationWarning: using a non-integer number instead of an integer will result in an error in the future\n",
      "  y = X[:m/2+1] + np.r_[0,X[m/2+1:],0]*1j\n"
     ]
    },
    {
     "data": {
      "image/png": "[encoded data removed]",
      "text/plain": [
       "<matplotlib.figure.Figure at 0xe06b7b8>"
      ]
     },
     "metadata": {},
     "output_type": "display_data"
    }
   ],
   "source": [
    "sns.distplot( trn['allltv'],label='train')\n",
    "sns.distplot( tst['allltv'], label='test')\n",
    "plt.legend() \n",
    "plt.title('All LTV')\n",
    "plt.show()"
   ]
  },
  {
   "cell_type": "code",
   "execution_count": 249,
   "metadata": {
    "collapsed": false
   },
   "outputs": [
    {
     "data": {
      "image/png": "[encoded data removed]",
      "text/plain": [
       "<matplotlib.figure.Figure at 0x143d69e8>"
      ]
     },
     "metadata": {},
     "output_type": "display_data"
    }
   ],
   "source": [
    "ax = sns.barplot(x=\"mosaicGroup\",y='donatedamount', data=trn, \n",
    "                 color='blue',\n",
    "                 estimator=lambda r: len(r)/len(trn) * 100)\n",
    "ax.set(ylabel=\"Percent\")\n",
    "ax.set(title = 'Training set Mosaic Dist')\n",
    "plt.show()"
   ]
  },
  {
   "cell_type": "code",
   "execution_count": 252,
   "metadata": {
    "collapsed": false
   },
   "outputs": [
    {
     "data": {
      "image/png": "[encoded data removed]",
      "text/plain": [
       "<matplotlib.figure.Figure at 0x120dfa20>"
      ]
     },
     "metadata": {},
     "output_type": "display_data"
    }
   ],
   "source": [
    "ax=sns.barplot(x=\"mosaicGroup\",y='donatedamount', data=tst, \n",
    "                  color='green', \n",
    "                  estimator=lambda r: len(r)/len(tst) * 100)\n",
    "ax.set(ylabel=\"Percent\")\n",
    "ax.set(title = 'Test Set Mosaic Dist')\n",
    "plt.show()\n"
   ]
  },
  {
   "cell_type": "markdown",
   "metadata": {},
   "source": [
    "Unfortunately I can't figure out how to show the training and test groups on one chart without stacking on top of each other.  \n",
    "To make things either harder the mosaic groups aren't in the same order, nor are the axies fixed!! \n"
   ]
  },
  {
   "cell_type": "code",
   "execution_count": 253,
   "metadata": {
    "collapsed": true
   },
   "outputs": [],
   "source": [
    "## exporting so that I can do this analysis in Tableau\n",
    "df.to_csv('stability.csv', sep=',')"
   ]
  },
  {
   "cell_type": "code",
   "execution_count": 207,
   "metadata": {
    "collapsed": false
   },
   "outputs": [
    {
     "data": {
      "text/plain": [
       "<matplotlib.axes._subplots.AxesSubplot at 0x110ea908>"
      ]
     },
     "execution_count": 207,
     "metadata": {},
     "output_type": "execute_result"
    },
    {
     "data": {
      "image/png": "[encoded data removed]",
      "text/plain": [
       "<matplotlib.figure.Figure at 0x107d26d8>"
      ]
     },
     "metadata": {},
     "output_type": "display_data"
    }
   ],
   "source": [
    "# Count plot below has a similar effect but only shows a count rather than the percentage, countplot doesn't allow an estimator.\n",
    "sns.countplot(x=\"mosaicGroup\", hue= 'sample', data=df)"
   ]
  },
  {
   "cell_type": "markdown",
   "metadata": {},
   "source": [
    "### Creating Bins"
   ]
  },
  {
   "cell_type": "code",
   "execution_count": 4,
   "metadata": {
    "collapsed": false
   },
   "outputs": [
    {
     "name": "stderr",
     "output_type": "stream",
     "text": [
      "C:\\Users\\BeckyC\\AppData\\Local\\Continuum\\Anaconda3\\lib\\site-packages\\ipykernel\\__main__.py:29: SettingWithCopyWarning: \n",
      "A value is trying to be set on a copy of a slice from a DataFrame.\n",
      "Try using .loc[row_indexer,col_indexer] = value instead\n",
      "\n",
      "See the caveats in the documentation: http://pandas.pydata.org/pandas-docs/stable/indexing.html#indexing-view-versus-copy\n",
      "C:\\Users\\BeckyC\\AppData\\Local\\Continuum\\Anaconda3\\lib\\site-packages\\ipykernel\\__main__.py:30: SettingWithCopyWarning: \n",
      "A value is trying to be set on a copy of a slice from a DataFrame.\n",
      "Try using .loc[row_indexer,col_indexer] = value instead\n",
      "\n",
      "See the caveats in the documentation: http://pandas.pydata.org/pandas-docs/stable/indexing.html#indexing-view-versus-copy\n"
     ]
    }
   ],
   "source": [
    "##update 19.05.2017, reducing the number of bins, bins between 50 & 90 had too few observations to get good results.\n",
    "# bins = np.linspace(0, 100, 11) - v1 \n",
    "bins = np.linspace(0,50, 6) # v2 \n",
    "\n",
    "def add_bins(x):\n",
    "#     if np.all(x > bins[10]):\n",
    "#         return 11 \n",
    "#     elif np.all(x >bins[9]):\n",
    "#         return 10 \n",
    "#     elif np.all(x >bins[8]):\n",
    "#         return 9 \n",
    "#     elif np.all(x >bins[7]):\n",
    "#         return 8 \n",
    "#     elif np.all(x >bins[6]):\n",
    "#         return 7 \n",
    "    if np.all(x >bins[5]):\n",
    "        return 5 \n",
    "    elif np.all(x >bins[4]):\n",
    "        return 4 \n",
    "    elif np.all(x >bins[3]):\n",
    "        return 3 \n",
    "    elif np.all(x >bins[2]):\n",
    "        return 2 \n",
    "    elif np.all(x >bins[1]):\n",
    "        return 1 \n",
    "    else:\n",
    "        return 0 \n",
    "# add the bins to the training and test data sets   \n",
    "trn['bin']  = trn['donatedamount'].map(add_bins)\n",
    "tst['bin']  = tst['donatedamount'].map(add_bins)\n",
    "\n",
    "# 5, >50 \n",
    "# 4, 40.01 to 50\n",
    "# 1, 0 to 10"
   ]
  },
  {
   "cell_type": "code",
   "execution_count": 8,
   "metadata": {
    "collapsed": false
   },
   "outputs": [
    {
     "data": {
      "text/html": [
       "<div>\n",
       "<table border=\"1\" class=\"dataframe\">\n",
       "  <thead>\n",
       "    <tr style=\"text-align: right;\">\n",
       "      <th></th>\n",
       "      <th>donatedamount</th>\n",
       "      <th>alldonationsavgl24m</th>\n",
       "      <th>allltv</th>\n",
       "      <th>mosaicGroup</th>\n",
       "      <th>C</th>\n",
       "      <th>audienceprofile2016</th>\n",
       "      <th>Upwardly Urban</th>\n",
       "      <th>sample</th>\n",
       "      <th>bin</th>\n",
       "    </tr>\n",
       "  </thead>\n",
       "  <tbody>\n",
       "    <tr>\n",
       "      <th>0</th>\n",
       "      <td>20.0</td>\n",
       "      <td>19.0000</td>\n",
       "      <td>350.0</td>\n",
       "      <td>B</td>\n",
       "      <td>0</td>\n",
       "      <td>Wealthy Wellwishers</td>\n",
       "      <td>0</td>\n",
       "      <td>train</td>\n",
       "      <td>1</td>\n",
       "    </tr>\n",
       "    <tr>\n",
       "      <th>1</th>\n",
       "      <td>20.0</td>\n",
       "      <td>23.0000</td>\n",
       "      <td>202.0</td>\n",
       "      <td>E</td>\n",
       "      <td>0</td>\n",
       "      <td>Not in target</td>\n",
       "      <td>0</td>\n",
       "      <td>train</td>\n",
       "      <td>1</td>\n",
       "    </tr>\n",
       "    <tr>\n",
       "      <th>2</th>\n",
       "      <td>30.0</td>\n",
       "      <td>32.1428</td>\n",
       "      <td>961.0</td>\n",
       "      <td>J</td>\n",
       "      <td>0</td>\n",
       "      <td>Not in target</td>\n",
       "      <td>0</td>\n",
       "      <td>train</td>\n",
       "      <td>2</td>\n",
       "    </tr>\n",
       "    <tr>\n",
       "      <th>3</th>\n",
       "      <td>30.0</td>\n",
       "      <td>30.0000</td>\n",
       "      <td>2320.0</td>\n",
       "      <td>C</td>\n",
       "      <td>1</td>\n",
       "      <td>Rapid Responders</td>\n",
       "      <td>0</td>\n",
       "      <td>train</td>\n",
       "      <td>2</td>\n",
       "    </tr>\n",
       "    <tr>\n",
       "      <th>4</th>\n",
       "      <td>20.0</td>\n",
       "      <td>26.6666</td>\n",
       "      <td>816.0</td>\n",
       "      <td>C</td>\n",
       "      <td>1</td>\n",
       "      <td>Rapid Responders</td>\n",
       "      <td>0</td>\n",
       "      <td>train</td>\n",
       "      <td>1</td>\n",
       "    </tr>\n",
       "  </tbody>\n",
       "</table>\n",
       "</div>"
      ],
      "text/plain": [
       "   donatedamount  alldonationsavgl24m  allltv mosaicGroup  C  \\\n",
       "0           20.0              19.0000   350.0           B  0   \n",
       "1           20.0              23.0000   202.0           E  0   \n",
       "2           30.0              32.1428   961.0           J  0   \n",
       "3           30.0              30.0000  2320.0           C  1   \n",
       "4           20.0              26.6666   816.0           C  1   \n",
       "\n",
       "   audienceprofile2016  Upwardly Urban sample  bin  \n",
       "0  Wealthy Wellwishers               0  train    1  \n",
       "1        Not in target               0  train    1  \n",
       "2        Not in target               0  train    2  \n",
       "3     Rapid Responders               0  train    2  \n",
       "4     Rapid Responders               0  train    1  "
      ]
     },
     "execution_count": 8,
     "metadata": {},
     "output_type": "execute_result"
    }
   ],
   "source": [
    "trn.head()"
   ]
  },
  {
   "cell_type": "code",
   "execution_count": 5,
   "metadata": {
    "collapsed": false
   },
   "outputs": [
    {
     "name": "stdout",
     "output_type": "stream",
     "text": [
      "training bin\n",
      "0     7.510417\n",
      "1    19.830986\n",
      "2    27.538462\n",
      "3    39.285714\n",
      "4    50.000000\n",
      "5    80.000000\n",
      "Name: __dummy__, dtype: float64\n",
      "test bin\n",
      "0     7.500000\n",
      "1    18.666667\n",
      "2    27.500000\n",
      "3    37.500000\n",
      "4    50.000000\n",
      "5    60.000000\n",
      "Name: __dummy__, dtype: float64\n"
     ]
    }
   ],
   "source": [
    "# Checking the bins by calculating the average donated per bin \n",
    "print('training', pd.crosstab(trn.bin,'', values= trn.donatedamount, aggfunc='mean'))\n",
    "print('test', pd.crosstab(tst.bin,'', values= tst.donatedamount, aggfunc='mean'))"
   ]
  },
  {
   "cell_type": "code",
   "execution_count": 10,
   "metadata": {
    "collapsed": false
   },
   "outputs": [
    {
     "data": {
      "text/plain": [
       "audienceprofile2016\n",
       "Mindful Mums            4\n",
       "Not in target          56\n",
       "Rapid Responders       38\n",
       "Upwardly Urban         24\n",
       "Wealthy Wellwishers    26\n",
       "Name: __dummy__, dtype: int64"
      ]
     },
     "execution_count": 10,
     "metadata": {},
     "output_type": "execute_result"
    },
    {
     "data": {
      "image/png": "[encoded data removed]",
      "text/plain": [
       "<matplotlib.figure.Figure at 0xa9f3b38>"
      ]
     },
     "metadata": {},
     "output_type": "display_data"
    }
   ],
   "source": [
    "## this shows the distribution across the bins by audience profile.\n",
    "sns.heatmap(pd.crosstab(trn.audienceprofile2016, trn.bin).apply(lambda r: r/r.sum(), axis=1),annot=True, fmt='.2f')\n",
    "pd.crosstab(trn.audienceprofile2016,'')"
   ]
  },
  {
   "cell_type": "markdown",
   "metadata": {},
   "source": [
    "The majority of suppporters gave the prompted £20 (bin 1).  \n",
    "Mindful Mums give a max of £20 (however there are only 4 of them)  \n",
    "12% of Wealthy wellwishers donate between £40 and 50 (bin 4).  \n",
    "The only group to donate more than £50 is the not in target group."
   ]
  },
  {
   "cell_type": "markdown",
   "metadata": {},
   "source": [
    "### Decision Tree"
   ]
  },
  {
   "cell_type": "markdown",
   "metadata": {},
   "source": [
    "Whist an advantage of Decision Trees is that they can take categorical variables as inputs, sklearn can't.  \n",
    "\n",
    "Already created the C Mosaic dummy variable and Upwardly Urban flag which avoids this problem."
   ]
  },
  {
   "cell_type": "code",
   "execution_count": 274,
   "metadata": {
    "collapsed": false
   },
   "outputs": [
    {
     "data": {
      "text/html": [
       "<div>\n",
       "<table border=\"1\" class=\"dataframe\">\n",
       "  <thead>\n",
       "    <tr style=\"text-align: right;\">\n",
       "      <th></th>\n",
       "      <th>donatedamount</th>\n",
       "      <th>alldonationsavgl24m</th>\n",
       "      <th>allltv</th>\n",
       "      <th>mosaicGroup</th>\n",
       "      <th>C</th>\n",
       "      <th>audienceprofile2016</th>\n",
       "      <th>Upwardly Urban</th>\n",
       "      <th>sample</th>\n",
       "      <th>bin</th>\n",
       "    </tr>\n",
       "  </thead>\n",
       "  <tbody>\n",
       "    <tr>\n",
       "      <th>0</th>\n",
       "      <td>20.0</td>\n",
       "      <td>19.0000</td>\n",
       "      <td>350.0</td>\n",
       "      <td>B</td>\n",
       "      <td>0</td>\n",
       "      <td>Wealthy Wellwishers</td>\n",
       "      <td>0</td>\n",
       "      <td>train</td>\n",
       "      <td>1</td>\n",
       "    </tr>\n",
       "    <tr>\n",
       "      <th>1</th>\n",
       "      <td>20.0</td>\n",
       "      <td>23.0000</td>\n",
       "      <td>202.0</td>\n",
       "      <td>E</td>\n",
       "      <td>0</td>\n",
       "      <td>Not in target</td>\n",
       "      <td>0</td>\n",
       "      <td>train</td>\n",
       "      <td>1</td>\n",
       "    </tr>\n",
       "    <tr>\n",
       "      <th>2</th>\n",
       "      <td>30.0</td>\n",
       "      <td>32.1428</td>\n",
       "      <td>961.0</td>\n",
       "      <td>J</td>\n",
       "      <td>0</td>\n",
       "      <td>Not in target</td>\n",
       "      <td>0</td>\n",
       "      <td>train</td>\n",
       "      <td>2</td>\n",
       "    </tr>\n",
       "    <tr>\n",
       "      <th>3</th>\n",
       "      <td>30.0</td>\n",
       "      <td>30.0000</td>\n",
       "      <td>2320.0</td>\n",
       "      <td>C</td>\n",
       "      <td>1</td>\n",
       "      <td>Rapid Responders</td>\n",
       "      <td>0</td>\n",
       "      <td>train</td>\n",
       "      <td>2</td>\n",
       "    </tr>\n",
       "    <tr>\n",
       "      <th>4</th>\n",
       "      <td>20.0</td>\n",
       "      <td>26.6666</td>\n",
       "      <td>816.0</td>\n",
       "      <td>C</td>\n",
       "      <td>1</td>\n",
       "      <td>Rapid Responders</td>\n",
       "      <td>0</td>\n",
       "      <td>train</td>\n",
       "      <td>1</td>\n",
       "    </tr>\n",
       "  </tbody>\n",
       "</table>\n",
       "</div>"
      ],
      "text/plain": [
       "   donatedamount  alldonationsavgl24m  allltv mosaicGroup  C  \\\n",
       "0           20.0              19.0000   350.0           B  0   \n",
       "1           20.0              23.0000   202.0           E  0   \n",
       "2           30.0              32.1428   961.0           J  0   \n",
       "3           30.0              30.0000  2320.0           C  1   \n",
       "4           20.0              26.6666   816.0           C  1   \n",
       "\n",
       "   audienceprofile2016  Upwardly Urban sample  bin  \n",
       "0  Wealthy Wellwishers               0  train    1  \n",
       "1        Not in target               0  train    1  \n",
       "2        Not in target               0  train    2  \n",
       "3     Rapid Responders               0  train    2  \n",
       "4     Rapid Responders               0  train    1  "
      ]
     },
     "execution_count": 274,
     "metadata": {},
     "output_type": "execute_result"
    }
   ],
   "source": [
    "trn.head()"
   ]
  },
  {
   "cell_type": "code",
   "execution_count": 5,
   "metadata": {
    "collapsed": false
   },
   "outputs": [
    {
     "name": "stdout",
     "output_type": "stream",
     "text": [
      "bin CV Accuracy [ 0.6969697   0.67741935  0.73333333  0.74074074  0.74074074], Average Accuracy 0.7178407733246444\n"
     ]
    },
    {
     "name": "stderr",
     "output_type": "stream",
     "text": [
      "C:\\Users\\BeckyC\\AppData\\Local\\Continuum\\Anaconda3\\lib\\site-packages\\sklearn\\cross_validation.py:44: DeprecationWarning: This module was deprecated in version 0.18 in favor of the model_selection module into which all the refactored classes and functions are moved. Also note that the interface of the new CV iterators are different from that of this module. This module will be removed in 0.20.\n",
      "  \"This module will be removed in 0.20.\", DeprecationWarning)\n",
      "C:\\Users\\BeckyC\\AppData\\Local\\Continuum\\Anaconda3\\lib\\site-packages\\ipykernel\\__main__.py:12: SettingWithCopyWarning: \n",
      "A value is trying to be set on a copy of a slice from a DataFrame\n",
      "\n",
      "See the caveats in the documentation: http://pandas.pydata.org/pandas-docs/stable/indexing.html#indexing-view-versus-copy\n",
      "C:\\Users\\BeckyC\\AppData\\Local\\Continuum\\Anaconda3\\lib\\site-packages\\sklearn\\cross_validation.py:552: Warning: The least populated class in y has only 1 members, which is too few. The minimum number of labels for any class cannot be less than n_folds=5.\n",
      "  % (min_labels, self.n_folds)), Warning)\n"
     ]
    }
   ],
   "source": [
    "## v1 - using all features\n",
    "\n",
    "from sklearn.tree import DecisionTreeClassifier\n",
    "from sklearn.cross_validation import cross_val_score\n",
    "\n",
    "model = DecisionTreeClassifier(max_depth=4)#min_samples_leaf=10) # max_depth=4,max of 4 branches\n",
    "y_col = 'bin' # predict either the 'donatedamount' or 'bin'\n",
    "\n",
    "X = trn[['alldonationsavgl24m','allltv','C', 'Upwardly Urban',y_col]]\n",
    "y = X[y_col]\n",
    "\n",
    "X.drop([y_col], axis=1, inplace=True)\n",
    "\n",
    "# Fits the model\n",
    "model.fit(X, y)\n",
    "\n",
    "##Evaluate the model using Cross Validation (builds 5 models, each on a distinct 1/5th of the data)\n",
    "scores = cross_val_score(model, X,y, scoring = 'accuracy', cv=5) #using 5 folds to test accuracy of the **training** set.\n",
    "\n",
    "print(y_col, 'CV Accuracy {}, Average Accuracy {}'.format(scores, scores.mean()))\n",
    "\n",
    "## nb roc_auc score returns an error when building a multiclass decition tree (auc can only be used for a binary outcome)\n"
   ]
  },
  {
   "cell_type": "markdown",
   "metadata": {},
   "source": [
    "Accuracy = overall how many right and wrong decisions were made, this is the proportion of true positives and false negatives.  \n",
    "The accuracy of the decision tree is 70%, which is an improvement compared to the lapsed analysis, which had an accuracy of c.50% when predicting the donated amount bin.  \n",
    "\n",
    "I tested min_samples_leaf which stops the tree splitting when the samples are 10 or less. The accuracy dropped marginally but remained at 70% - but each CV ranged from 63% to 83% and this volatility suggests that the model overfits in places. Unlike the max_depth 4 option where the results are consistently 70% for each CV. \n",
    "\n",
    "The order of the decision trees tells us the feature importance - alldonationsavgl24m is used first and several times throughout the tree, followed by allltv, Upwardly Urban is used once and C mosaic isn't used in the model."
   ]
  },
  {
   "cell_type": "code",
   "execution_count": 72,
   "metadata": {
    "collapsed": false
   },
   "outputs": [
    {
     "name": "stdout",
     "output_type": "stream",
     "text": [
      "donatedamount CV Accuracy [ 0.55263158  0.6         0.67857143  0.66666667  0.6       ], Average Accuracy 0.6195739348370928\n"
     ]
    },
    {
     "name": "stderr",
     "output_type": "stream",
     "text": [
      "C:\\Users\\BeckyC\\AppData\\Local\\Continuum\\Anaconda3\\lib\\site-packages\\ipykernel\\__main__.py:8: SettingWithCopyWarning: \n",
      "A value is trying to be set on a copy of a slice from a DataFrame\n",
      "\n",
      "See the caveats in the documentation: http://pandas.pydata.org/pandas-docs/stable/indexing.html#indexing-view-versus-copy\n",
      "C:\\Users\\BeckyC\\AppData\\Local\\Continuum\\Anaconda3\\lib\\site-packages\\sklearn\\cross_validation.py:552: Warning: The least populated class in y has only 1 members, which is too few. The minimum number of labels for any class cannot be less than n_folds=5.\n",
      "  % (min_labels, self.n_folds)), Warning)\n"
     ]
    }
   ],
   "source": [
    "##Using the **continuous/int** donatedamount as outcome\n",
    "model = DecisionTreeClassifier(max_depth=3) # Max depth changed to 3 (better results)\n",
    "y_col = 'donatedamount' # predict either the 'donatedamount' or 'bin'\n",
    "\n",
    "X = trn[['alldonationsavgl24m','allltv','C', 'Upwardly Urban',y_col]]\n",
    "y = np.int_(X[y_col]) # converting from float to int, otherwise it throws a \"continuous\" error.\n",
    "\n",
    "X.drop([y_col], axis=1, inplace=True)\n",
    "\n",
    "# # Fits the model\n",
    "model.fit(X, y)\n",
    "\n",
    "# ##Evaluate the model using Cross Validation (builds 5 models, each on a distinct 1/5th of the data)\n",
    "scores = cross_val_score(model, X,y, scoring = 'accuracy', cv=5) #using 5 folds to test accuracy of the **training** set.\n",
    "print(y_col, 'CV Accuracy {}, Average Accuracy {}'.format(scores, scores.mean()))\n"
   ]
  },
  {
   "cell_type": "markdown",
   "metadata": {},
   "source": [
    "I reran the tree to test the continuous donated amount, but the model didn't like the float datatype.   \n",
    "\n",
    "The accuracy drops to 60% (from 70%).  \n",
    "\n",
    "After changing this to int the model runs fine, but you obviously lose the decimal places - but this might be a nice trade-off between trying to predict an overly precise value and trying to predict within a fairly loose £10 range - given that the prompt was £20, it's likely to result in lots of £20 donations!  \n"
   ]
  },
  {
   "cell_type": "markdown",
   "metadata": {},
   "source": [
    "DOES THE DECISION TREE INCLUDE BOOTSTRAPPING?  \n",
    "Bootstrapping is particularly helpful where you have a small sample. It randomly selects observations, builds a model, puts the observations back in the bag and then selects another random sample. This down-weights outliers as they probably won't exist in each sample and this is likely to build a model which will fit the true population better.   \n",
    "\n",
    "A bootstrap is used for Ensemble/ Random Forest techniques, i.e. Bagging, short for Bootstrap Aggregation - this takes the average of multiple decision trees.  Therefore one decision tree doesn't use a bootstrap technique - it requires several collective trees.  \n",
    "\n",
    "A decision tree can be evaluated using Cross Validation, however this evaluates a model after it's been fitted whilst bootstrapping is used in the construction of the model and is therefore a better tool for minimising variance."
   ]
  },
  {
   "cell_type": "code",
   "execution_count": 42,
   "metadata": {
    "collapsed": false
   },
   "outputs": [
    {
     "name": "stderr",
     "output_type": "stream",
     "text": [
      "C:\\Users\\BeckyC\\AppData\\Local\\Continuum\\Anaconda3\\lib\\site-packages\\ipykernel\\__main__.py:5: SettingWithCopyWarning: \n",
      "A value is trying to be set on a copy of a slice from a DataFrame\n",
      "\n",
      "See the caveats in the documentation: http://pandas.pydata.org/pandas-docs/stable/indexing.html#indexing-view-versus-copy\n",
      "C:\\Users\\BeckyC\\AppData\\Local\\Continuum\\Anaconda3\\lib\\site-packages\\sklearn\\cross_validation.py:552: Warning: The least populated class in y has only 1 members, which is too few. The minimum number of labels for any class cannot be less than n_folds=5.\n",
      "  % (min_labels, self.n_folds)), Warning)\n",
      "C:\\Users\\BeckyC\\AppData\\Local\\Continuum\\Anaconda3\\lib\\site-packages\\sklearn\\cross_validation.py:552: Warning: The least populated class in y has only 1 members, which is too few. The minimum number of labels for any class cannot be less than n_folds=5.\n",
      "  % (min_labels, self.n_folds)), Warning)\n",
      "C:\\Users\\BeckyC\\AppData\\Local\\Continuum\\Anaconda3\\lib\\site-packages\\sklearn\\cross_validation.py:552: Warning: The least populated class in y has only 1 members, which is too few. The minimum number of labels for any class cannot be less than n_folds=5.\n",
      "  % (min_labels, self.n_folds)), Warning)\n",
      "C:\\Users\\BeckyC\\AppData\\Local\\Continuum\\Anaconda3\\lib\\site-packages\\sklearn\\cross_validation.py:552: Warning: The least populated class in y has only 1 members, which is too few. The minimum number of labels for any class cannot be less than n_folds=5.\n",
      "  % (min_labels, self.n_folds)), Warning)\n",
      "C:\\Users\\BeckyC\\AppData\\Local\\Continuum\\Anaconda3\\lib\\site-packages\\sklearn\\cross_validation.py:552: Warning: The least populated class in y has only 1 members, which is too few. The minimum number of labels for any class cannot be less than n_folds=5.\n",
      "  % (min_labels, self.n_folds)), Warning)\n"
     ]
    },
    {
     "name": "stdout",
     "output_type": "stream",
     "text": [
      "1 donatedamount CV Accuracy [ 0.44736842  0.43333333  0.60714286  0.59259259  0.6       ], Average Accuracy 0.536087440824283\n",
      "2 donatedamount CV Accuracy [ 0.52631579  0.6         0.71428571  0.66666667  0.6       ], Average Accuracy 0.621453634085213\n",
      "3 donatedamount CV Accuracy [ 0.52631579  0.56666667  0.71428571  0.7037037   0.6       ], Average Accuracy 0.6221943748259539\n",
      "4 donatedamount CV Accuracy [ 0.52631579  0.56666667  0.60714286  0.66666667  0.6       ], Average Accuracy 0.593358395989975\n",
      "5 donatedamount CV Accuracy [ 0.55263158  0.56666667  0.60714286  0.62962963  0.56      ], Average Accuracy 0.5832141464773044\n",
      "6 donatedamount CV Accuracy [ 0.55263158  0.56666667  0.60714286  0.62962963  0.56      ], Average Accuracy 0.5832141464773044\n",
      "7 donatedamount CV Accuracy [ 0.55263158  0.56666667  0.60714286  0.62962963  0.56      ], Average Accuracy 0.5832141464773044\n",
      "8 donatedamount CV Accuracy [ 0.55263158  0.56666667  0.60714286  0.62962963  0.56      ], Average Accuracy 0.5832141464773044\n",
      "9 donatedamount CV Accuracy [ 0.55263158  0.56666667  0.60714286  0.62962963  0.56      ], Average Accuracy 0.5832141464773044\n"
     ]
    },
    {
     "name": "stderr",
     "output_type": "stream",
     "text": [
      "C:\\Users\\BeckyC\\AppData\\Local\\Continuum\\Anaconda3\\lib\\site-packages\\sklearn\\cross_validation.py:552: Warning: The least populated class in y has only 1 members, which is too few. The minimum number of labels for any class cannot be less than n_folds=5.\n",
      "  % (min_labels, self.n_folds)), Warning)\n",
      "C:\\Users\\BeckyC\\AppData\\Local\\Continuum\\Anaconda3\\lib\\site-packages\\sklearn\\cross_validation.py:552: Warning: The least populated class in y has only 1 members, which is too few. The minimum number of labels for any class cannot be less than n_folds=5.\n",
      "  % (min_labels, self.n_folds)), Warning)\n",
      "C:\\Users\\BeckyC\\AppData\\Local\\Continuum\\Anaconda3\\lib\\site-packages\\sklearn\\cross_validation.py:552: Warning: The least populated class in y has only 1 members, which is too few. The minimum number of labels for any class cannot be less than n_folds=5.\n",
      "  % (min_labels, self.n_folds)), Warning)\n",
      "C:\\Users\\BeckyC\\AppData\\Local\\Continuum\\Anaconda3\\lib\\site-packages\\sklearn\\cross_validation.py:552: Warning: The least populated class in y has only 1 members, which is too few. The minimum number of labels for any class cannot be less than n_folds=5.\n",
      "  % (min_labels, self.n_folds)), Warning)\n"
     ]
    }
   ],
   "source": [
    "## Removing C and Upwardly Urban \n",
    "y_col = 'donatedamount' # predict either the 'donatedamount' or 'bin'\n",
    "X = trn[['alldonationsavgl24m','allltv',y_col]]\n",
    "y = np.int_(X[y_col]) # converting from float to int, otherwise it throws a \"continuous\" error.\n",
    "X.drop([y_col], axis=1, inplace=True)\n",
    "\n",
    "for md in range(1, 10, 1):\n",
    "    model = DecisionTreeClassifier(max_depth=md, min_samples_leaf=5) # Max depth changed to 3 (better results)\n",
    "    model.fit(X, y)#Fits the model\n",
    "    #Evaluate the model using Cross Validation (builds 5 models, each on a distinct 1/5th of the data)\n",
    "    scores = cross_val_score(model, X,y, scoring = 'accuracy', cv=5) #using 5 folds to test accuracy of the **training** set.\n",
    "    print(md,y_col, 'CV Accuracy {}, Average Accuracy {}'.format(scores, scores.mean()))"
   ]
  },
  {
   "cell_type": "code",
   "execution_count": 46,
   "metadata": {
    "collapsed": false
   },
   "outputs": [
    {
     "name": "stdout",
     "output_type": "stream",
     "text": [
      "donatedamount CV Accuracy [ 0.52631579  0.6         0.71428571  0.66666667  0.6       ], Average Accuracy 0.621453634085213\n"
     ]
    },
    {
     "name": "stderr",
     "output_type": "stream",
     "text": [
      "C:\\Users\\BeckyC\\AppData\\Local\\Continuum\\Anaconda3\\lib\\site-packages\\sklearn\\cross_validation.py:552: Warning: The least populated class in y has only 1 members, which is too few. The minimum number of labels for any class cannot be less than n_folds=5.\n",
      "  % (min_labels, self.n_folds)), Warning)\n"
     ]
    }
   ],
   "source": [
    "model = DecisionTreeClassifier(max_depth=2, min_samples_leaf=5) # Max depth changed to 3 (better results)\n",
    "model.fit(X, y)#Fits the model\n",
    "#Evaluate the model using Cross Validation (builds 5 models, each on a distinct 1/5th of the data)\n",
    "scores = cross_val_score(model, X,y, scoring = 'accuracy', cv=5) #using 5 folds to test accuracy of the **training** set.\n",
    "print(y_col, 'CV Accuracy {}, Average Accuracy {}'.format(scores, scores.mean()))"
   ]
  },
  {
   "cell_type": "markdown",
   "metadata": {},
   "source": [
    "Accuracy doesn't deteriorate when C and Upwardly Urban are removed.  \n",
    "Max_depth of 3 is optimal with a minimum of 5 samples at each leaf."
   ]
  },
  {
   "cell_type": "markdown",
   "metadata": {},
   "source": [
    "** Visualising the tree **"
   ]
  },
  {
   "cell_type": "code",
   "execution_count": 47,
   "metadata": {
    "collapsed": false
   },
   "outputs": [],
   "source": [
    "# Helper function to visualize Decision Trees (creates a file tree.png)\n",
    "from sklearn.tree import export_graphviz\n",
    "from os import system \n",
    "def build_tree_image(model):\n",
    "    dotfile = open(\"tree_active.dot\", 'w') # output a file called tree.dot in active directory \n",
    "    export_graphviz(model,out_file = dotfile,feature_names = X.columns)\n",
    "    dotfile.close()\n",
    "    system(\"dot -Tpng tree_active.dot -o tree_active.png\")# this uses graphviz (not python) to create a png file.\n",
    "build_tree_image(model)\n"
   ]
  },
  {
   "cell_type": "markdown",
   "metadata": {},
   "source": [
    "The above doesn't fully work for me, it produces tree.dot but not the image.\n",
    "\n",
    "To create the png file, run this from the command line\n",
    "navigate using **cd** (change directory) to the active directory python is using (the one you're running the notebook from)\n",
    "\n",
    "**C:\\Users\\BeckyC\\Desktop\\Data Science - GA files\\Final Project>  \n",
    "\"C:\\Program Files (x86)\\Graphviz2.38\\bin\\dot.exe\" -Tpng tree_active.dot -o tree_active.png**  \n",
    "NB this uses a program called GraphViz which needs to be downloaded and installed separately.  \n",
    "\n",
    "Below is the first run of the model, using max_depth=4 to predict the bin amount with all predictors:"
   ]
  },
  {
   "cell_type": "markdown",
   "metadata": {},
   "source": [
    "<img src=\"Tree_active_wcomments.png\">"
   ]
  },
  {
   "cell_type": "markdown",
   "metadata": {},
   "source": [
    "The values at each node show the;  \n",
    "- Rule being applied.  \n",
    "- The gini shows the precision/purity of the split, values closer to zero show that the rule is better able to distinguish between the different outcomes.  For example if there were 100 samples, and the rule split these in half, then the gini would be 0.5, which shows an inability to split the samples in a way that gets us closer to making an accurate prediction.   \n",
    "- The sample value is the  number of observations included.  \n",
    "- The value array shows the actual volume per bin for the samples.  "
   ]
  },
  {
   "cell_type": "code",
   "execution_count": 10,
   "metadata": {
    "collapsed": false
   },
   "outputs": [
    {
     "data": {
      "text/html": [
       "<div>\n",
       "<table border=\"1\" class=\"dataframe\">\n",
       "  <thead>\n",
       "    <tr style=\"text-align: right;\">\n",
       "      <th></th>\n",
       "      <th>Y</th>\n",
       "      <th>y</th>\n",
       "    </tr>\n",
       "  </thead>\n",
       "  <tbody>\n",
       "    <tr>\n",
       "      <th>0</th>\n",
       "      <td>20.0</td>\n",
       "      <td>20</td>\n",
       "    </tr>\n",
       "    <tr>\n",
       "      <th>1</th>\n",
       "      <td>20.0</td>\n",
       "      <td>20</td>\n",
       "    </tr>\n",
       "    <tr>\n",
       "      <th>2</th>\n",
       "      <td>30.0</td>\n",
       "      <td>20</td>\n",
       "    </tr>\n",
       "    <tr>\n",
       "      <th>3</th>\n",
       "      <td>30.0</td>\n",
       "      <td>20</td>\n",
       "    </tr>\n",
       "    <tr>\n",
       "      <th>4</th>\n",
       "      <td>20.0</td>\n",
       "      <td>20</td>\n",
       "    </tr>\n",
       "  </tbody>\n",
       "</table>\n",
       "</div>"
      ],
      "text/plain": [
       "      Y   y\n",
       "0  20.0  20\n",
       "1  20.0  20\n",
       "2  30.0  20\n",
       "3  30.0  20\n",
       "4  20.0  20"
      ]
     },
     "execution_count": 10,
     "metadata": {},
     "output_type": "execute_result"
    }
   ],
   "source": [
    "# applying the prediction \n",
    "temp = trn.copy().dropna()\n",
    "predictions= temp[[y_col]]\n",
    "predictions = predictions.rename(index=str, columns ={y_col:'Y'})\n",
    "predictions['y']= model.predict(X)\n",
    "predictions.head()"
   ]
  },
  {
   "cell_type": "code",
   "execution_count": 48,
   "metadata": {
    "collapsed": false
   },
   "outputs": [
    {
     "name": "stdout",
     "output_type": "stream",
     "text": [
      "donatedamount\n",
      "accuracy 0.486486486486\n"
     ]
    }
   ],
   "source": [
    "# fitting model to unseen test_data \n",
    "\n",
    "X_test = tst.copy() # take a copy of tst \n",
    "test_pred= X_test[[y_col]]# create a new df with the true Bin.\n",
    "test_pred = test_pred.rename(index=str, columns ={y_col:'Y'}) # rename the Bin column to Y (true value)\n",
    "X_test.drop(['bin', 'donatedamount','audienceprofile2016','mosaicGroup','sample', 'C','Upwardly Urban'],axis=1, inplace=True)\n",
    "test_pred['y']=model.predict(X_test) ##Applying the prediction \n",
    "\n",
    "from sklearn import metrics\n",
    "print(y_col)\n",
    "print ('accuracy', metrics.accuracy_score(test_pred.Y, test_pred.y) ) # proportion of correctly made preditions\n"
   ]
  },
  {
   "cell_type": "markdown",
   "metadata": {},
   "source": [
    "### Confusion matrix "
   ]
  },
  {
   "cell_type": "code",
   "execution_count": 51,
   "metadata": {
    "collapsed": false,
    "scrolled": false
   },
   "outputs": [
    {
     "name": "stdout",
     "output_type": "stream",
     "text": [
      "correct 18\n",
      "incorrect 19\n",
      "total 37\n",
      "Axes(0.125,0.125;0.62x0.755)\n"
     ]
    },
    {
     "data": {
      "image/png": "[encoded data removed]",
      "text/plain": [
       "<matplotlib.figure.Figure at 0xbfde3c8>"
      ]
     },
     "metadata": {},
     "output_type": "display_data"
    }
   ],
   "source": [
    "print('correct', test_pred[test_pred.Y== test_pred.y].count().Y) \n",
    "print ('incorrect', test_pred[test_pred.Y != test_pred.y].count().Y) \n",
    "print ('total', test_pred.count().Y) \n",
    "\n",
    "f,ax = plt.subplots(figsize=(4,5))\n",
    "print(sns.heatmap(pd.crosstab(test_pred.Y,  #actual\n",
    "                              test_pred.y) # prediction\n",
    "                  ,annot= True))\n",
    "\n",
    "# pd.crosstab(test_pred.Y,test_pred.y)"
   ]
  },
  {
   "cell_type": "markdown",
   "metadata": {},
   "source": [
    "When predicting the **donationamount** (int) the decision tree is able to predict a **62%** of outcomes correctly. When tested on the unseen data, the result is similar; **48% of outcomes are correctly predicted**.  The model most struggles to predict a £20 donation which is the norm.   \n",
    "\n",
    "**To get an unbiased donation, we need to ask for cash without a prompt**.\n",
    "\n",
    "If I use the **bin** (categorical) which classifies donations into £10 buckets the accuracy improves to 70% (mean score from k=5 CV) and a **62% accuracy** on the unseen data.\n",
    "\n",
    "Does an accuracy around 50%  mean that the prediction is no better than random?  \n",
    "I think it is better than random because we have 11 classes we're trying to predict (or infinite in the case of the continous donated amount).  I think this means that a random model would predict 1/11th correctly (9%) - pick a number between 1 and 11, you have a 9% chance of getting it right.  Therefore 50% is a significant improvement.  "
   ]
  },
  {
   "cell_type": "markdown",
   "metadata": {},
   "source": [
    "### Decision Tree feature importance  \n",
    "nb the order of the tree shows the feature importance."
   ]
  },
  {
   "cell_type": "code",
   "execution_count": 79,
   "metadata": {
    "collapsed": false
   },
   "outputs": [
    {
     "name": "stderr",
     "output_type": "stream",
     "text": [
      "C:\\Users\\BeckyC\\AppData\\Local\\Continuum\\Anaconda3\\lib\\site-packages\\ipykernel\\__main__.py:7: FutureWarning: sort(columns=....) is deprecated, use sort_values(by=.....)\n"
     ]
    },
    {
     "data": {
      "text/html": [
       "<div>\n",
       "<table border=\"1\" class=\"dataframe\">\n",
       "  <thead>\n",
       "    <tr style=\"text-align: right;\">\n",
       "      <th></th>\n",
       "      <th>Features</th>\n",
       "      <th>Importance Score</th>\n",
       "    </tr>\n",
       "  </thead>\n",
       "  <tbody>\n",
       "    <tr>\n",
       "      <th>0</th>\n",
       "      <td>alldonationsavgl24m</td>\n",
       "      <td>0.87762</td>\n",
       "    </tr>\n",
       "    <tr>\n",
       "      <th>1</th>\n",
       "      <td>allltv</td>\n",
       "      <td>0.12238</td>\n",
       "    </tr>\n",
       "    <tr>\n",
       "      <th>2</th>\n",
       "      <td>C</td>\n",
       "      <td>0.00000</td>\n",
       "    </tr>\n",
       "    <tr>\n",
       "      <th>3</th>\n",
       "      <td>Upwardly Urban</td>\n",
       "      <td>0.00000</td>\n",
       "    </tr>\n",
       "  </tbody>\n",
       "</table>\n",
       "</div>"
      ],
      "text/plain": [
       "              Features  Importance Score\n",
       "0  alldonationsavgl24m           0.87762\n",
       "1               allltv           0.12238\n",
       "2                    C           0.00000\n",
       "3       Upwardly Urban           0.00000"
      ]
     },
     "execution_count": 79,
     "metadata": {},
     "output_type": "execute_result"
    }
   ],
   "source": [
    "model.feature_importances_\n",
    "\n",
    "features = X.columns\n",
    "feature_importances = model.feature_importances_\n",
    "\n",
    "features_df = pd.DataFrame({'Features': features, 'Importance Score': feature_importances})\n",
    "features_df.sort('Importance Score', inplace=True, ascending=False)\n",
    "\n",
    "features_df.head()"
   ]
  },
  {
   "cell_type": "markdown",
   "metadata": {},
   "source": [
    "Removing C and Upwardly Urban didn't change the models accuracy."
   ]
  },
  {
   "cell_type": "code",
   "execution_count": 22,
   "metadata": {
    "collapsed": false
   },
   "outputs": [
    {
     "name": "stdout",
     "output_type": "stream",
     "text": [
      "             precision    recall  f1-score   support\n",
      "\n",
      "        5.0       1.00      0.83      0.91         6\n",
      "       10.0       0.50      0.50      0.50         6\n",
      "       15.0       0.00      0.00      0.00         4\n",
      "       20.0       0.36      0.82      0.50        11\n",
      "       25.0       0.00      0.00      0.00         3\n",
      "       30.0       0.00      0.00      0.00         3\n",
      "       35.0       0.00      0.00      0.00         1\n",
      "       40.0       0.00      0.00      0.00         1\n",
      "       50.0       0.00      0.00      0.00         1\n",
      "       60.0       0.00      0.00      0.00         1\n",
      "\n",
      "avg / total       0.35      0.46      0.38        37\n",
      "\n"
     ]
    },
    {
     "name": "stderr",
     "output_type": "stream",
     "text": [
      "C:\\Users\\BeckyC\\AppData\\Local\\Continuum\\Anaconda3\\lib\\site-packages\\sklearn\\metrics\\classification.py:1113: UndefinedMetricWarning: Precision and F-score are ill-defined and being set to 0.0 in labels with no predicted samples.\n",
      "  'precision', 'predicted', average, warn_for)\n"
     ]
    }
   ],
   "source": [
    "## Classification report (summarises precision, recall and F1 score)\n",
    "from sklearn.metrics import classification_report\n",
    "\n",
    "report = classification_report(test_pred.Y, test_pred.y)\n",
    "print(report)"
   ]
  },
  {
   "cell_type": "markdown",
   "metadata": {},
   "source": [
    " **Precision** = The models ability to not label a positive sample as negative;  true positives/ total predicted, eg/ the model correctly identified 70 donations in the bin 0, but falsey predicted 19... 70/89 = 0.79  \n",
    " \n",
    " **Recall** = The models ability to find all positive samples: true positives / total positives, eg/ 70 of a possible 102 were correctly identified as being bin 0.  \n",
    " \n",
    " **F1-score** = the weighted average of precision and recall (1 best, 0 worst). f = 2* (precision*recall)/ (precision+recall). Known as F1 because precision and recall are evenly weighted (other F scores exist).  \n",
    " \n",
    " **Support** = the number of positives (actuals) in each bin."
   ]
  },
  {
   "cell_type": "code",
   "execution_count": 27,
   "metadata": {
    "collapsed": false
   },
   "outputs": [
    {
     "name": "stderr",
     "output_type": "stream",
     "text": [
      "C:\\Users\\BeckyC\\AppData\\Local\\Continuum\\Anaconda3\\lib\\site-packages\\numpy\\lib\\function_base.py:564: VisibleDeprecationWarning: using a non-integer number instead of an integer will result in an error in the future\n",
      "  n = np.zeros(bins, ntype)\n",
      "C:\\Users\\BeckyC\\AppData\\Local\\Continuum\\Anaconda3\\lib\\site-packages\\numpy\\lib\\function_base.py:611: VisibleDeprecationWarning: using a non-integer number instead of an integer will result in an error in the future\n",
      "  n += np.bincount(indices, weights=tmp_w, minlength=bins).astype(ntype)\n"
     ]
    },
    {
     "data": {
      "text/plain": [
       "2.2972972972972974"
      ]
     },
     "execution_count": 27,
     "metadata": {},
     "output_type": "execute_result"
    },
    {
     "data": {
      "image/png": "[encoded data removed]",
      "text/plain": [
       "<matplotlib.figure.Figure at 0xbf1b9e8>"
      ]
     },
     "metadata": {},
     "output_type": "display_data"
    }
   ],
   "source": [
    "# actual Y minus predicted y for **donatedamount**\n",
    "residuals = (test_pred.Y-test_pred.y)\n",
    "plt.figure()\n",
    "plt.hist(residuals, bins=np.ceil(np.sqrt(len(test_pred.y))))\n",
    "(test_pred.Y -test_pred.y).mean()"
   ]
  },
  {
   "cell_type": "markdown",
   "metadata": {},
   "source": [
    "<font color =green> See K047 Follow up analysis folder> model evaluation.xls for analysis on this. </font>  \n",
    "\n",
    "Commentary based on the donatedamount(int) model  \n",
    "The model doesn't predict any values between £25 and £40. \n",
    "The model mostly errors where it predicts £20 for the majority of samples (25 out of 37), and only 9 of these predictions are correct.  \n",
    "The average residual (error from actual donated amount) is £2.29 - this sounds low, but because this was a fixed £20 ask, there is little variance in the donated amount and therefore the model needs to perform better."
   ]
  },
  {
   "cell_type": "markdown",
   "metadata": {},
   "source": [
    "### Random forests "
   ]
  },
  {
   "cell_type": "code",
   "execution_count": 28,
   "metadata": {
    "collapsed": false
   },
   "outputs": [],
   "source": [
    "    from sklearn.ensemble import RandomForestClassifier\n",
    "    from sklearn.cross_validation import cross_val_score"
   ]
  },
  {
   "cell_type": "code",
   "execution_count": 35,
   "metadata": {
    "collapsed": false
   },
   "outputs": [
    {
     "name": "stderr",
     "output_type": "stream",
     "text": [
      "C:\\Users\\BeckyC\\AppData\\Local\\Continuum\\Anaconda3\\lib\\site-packages\\ipykernel\\__main__.py:3: SettingWithCopyWarning: \n",
      "A value is trying to be set on a copy of a slice from a DataFrame\n",
      "\n",
      "See the caveats in the documentation: http://pandas.pydata.org/pandas-docs/stable/indexing.html#indexing-view-versus-copy\n",
      "  app.launch_new_instance()\n"
     ]
    }
   ],
   "source": [
    "X = trn[['alldonationsavgl24m','allltv',y_col]]\n",
    "y = np.int_(X[y_col]) # converting from float to int, otherwise it throws a \"continuous\" error.\n",
    "X.drop([y_col], axis=1, inplace=True)"
   ]
  },
  {
   "cell_type": "code",
   "execution_count": 37,
   "metadata": {
    "collapsed": false
   },
   "outputs": [
    {
     "name": "stderr",
     "output_type": "stream",
     "text": [
      "C:\\Users\\BeckyC\\AppData\\Local\\Continuum\\Anaconda3\\lib\\site-packages\\sklearn\\cross_validation.py:552: Warning: The least populated class in y has only 1 members, which is too few. The minimum number of labels for any class cannot be less than n_folds=3.\n",
      "  % (min_labels, self.n_folds)), Warning)\n",
      "C:\\Users\\BeckyC\\AppData\\Local\\Continuum\\Anaconda3\\lib\\site-packages\\sklearn\\cross_validation.py:552: Warning: The least populated class in y has only 1 members, which is too few. The minimum number of labels for any class cannot be less than n_folds=3.\n",
      "  % (min_labels, self.n_folds)), Warning)\n"
     ]
    },
    {
     "name": "stdout",
     "output_type": "stream",
     "text": [
      "n trees: 1, accuracy [ 0.57142857  0.45833333  0.61363636], Average accuracy 0.5477994227994228\n",
      "n trees: 11, accuracy [ 0.57142857  0.60416667  0.68181818], Average accuracy 0.6191378066378066\n"
     ]
    },
    {
     "name": "stderr",
     "output_type": "stream",
     "text": [
      "C:\\Users\\BeckyC\\AppData\\Local\\Continuum\\Anaconda3\\lib\\site-packages\\sklearn\\cross_validation.py:552: Warning: The least populated class in y has only 1 members, which is too few. The minimum number of labels for any class cannot be less than n_folds=3.\n",
      "  % (min_labels, self.n_folds)), Warning)\n"
     ]
    },
    {
     "name": "stdout",
     "output_type": "stream",
     "text": [
      "n trees: 21, accuracy [ 0.60714286  0.64583333  0.63636364], Average accuracy 0.6297799422799423\n"
     ]
    },
    {
     "name": "stderr",
     "output_type": "stream",
     "text": [
      "C:\\Users\\BeckyC\\AppData\\Local\\Continuum\\Anaconda3\\lib\\site-packages\\sklearn\\cross_validation.py:552: Warning: The least populated class in y has only 1 members, which is too few. The minimum number of labels for any class cannot be less than n_folds=3.\n",
      "  % (min_labels, self.n_folds)), Warning)\n"
     ]
    },
    {
     "name": "stdout",
     "output_type": "stream",
     "text": [
      "n trees: 31, accuracy [ 0.625       0.66666667  0.59090909], Average accuracy 0.6275252525252525\n"
     ]
    },
    {
     "name": "stderr",
     "output_type": "stream",
     "text": [
      "C:\\Users\\BeckyC\\AppData\\Local\\Continuum\\Anaconda3\\lib\\site-packages\\sklearn\\cross_validation.py:552: Warning: The least populated class in y has only 1 members, which is too few. The minimum number of labels for any class cannot be less than n_folds=3.\n",
      "  % (min_labels, self.n_folds)), Warning)\n"
     ]
    },
    {
     "name": "stdout",
     "output_type": "stream",
     "text": [
      "n trees: 41, accuracy [ 0.60714286  0.625       0.63636364], Average accuracy 0.6228354978354979\n"
     ]
    },
    {
     "name": "stderr",
     "output_type": "stream",
     "text": [
      "C:\\Users\\BeckyC\\AppData\\Local\\Continuum\\Anaconda3\\lib\\site-packages\\sklearn\\cross_validation.py:552: Warning: The least populated class in y has only 1 members, which is too few. The minimum number of labels for any class cannot be less than n_folds=3.\n",
      "  % (min_labels, self.n_folds)), Warning)\n"
     ]
    },
    {
     "name": "stdout",
     "output_type": "stream",
     "text": [
      "n trees: 51, accuracy [ 0.625       0.64583333  0.63636364], Average accuracy 0.6357323232323232\n"
     ]
    },
    {
     "name": "stderr",
     "output_type": "stream",
     "text": [
      "C:\\Users\\BeckyC\\AppData\\Local\\Continuum\\Anaconda3\\lib\\site-packages\\sklearn\\cross_validation.py:552: Warning: The least populated class in y has only 1 members, which is too few. The minimum number of labels for any class cannot be less than n_folds=3.\n",
      "  % (min_labels, self.n_folds)), Warning)\n"
     ]
    },
    {
     "name": "stdout",
     "output_type": "stream",
     "text": [
      "n trees: 61, accuracy [ 0.57142857  0.66666667  0.59090909], Average accuracy 0.6096681096681097\n"
     ]
    },
    {
     "name": "stderr",
     "output_type": "stream",
     "text": [
      "C:\\Users\\BeckyC\\AppData\\Local\\Continuum\\Anaconda3\\lib\\site-packages\\sklearn\\cross_validation.py:552: Warning: The least populated class in y has only 1 members, which is too few. The minimum number of labels for any class cannot be less than n_folds=3.\n",
      "  % (min_labels, self.n_folds)), Warning)\n"
     ]
    },
    {
     "name": "stdout",
     "output_type": "stream",
     "text": [
      "n trees: 71, accuracy [ 0.625       0.66666667  0.59090909], Average accuracy 0.6275252525252525\n"
     ]
    },
    {
     "name": "stderr",
     "output_type": "stream",
     "text": [
      "C:\\Users\\BeckyC\\AppData\\Local\\Continuum\\Anaconda3\\lib\\site-packages\\sklearn\\cross_validation.py:552: Warning: The least populated class in y has only 1 members, which is too few. The minimum number of labels for any class cannot be less than n_folds=3.\n",
      "  % (min_labels, self.n_folds)), Warning)\n"
     ]
    },
    {
     "name": "stdout",
     "output_type": "stream",
     "text": [
      "n trees: 81, accuracy [ 0.60714286  0.64583333  0.61363636], Average accuracy 0.6222041847041847\n"
     ]
    },
    {
     "name": "stderr",
     "output_type": "stream",
     "text": [
      "C:\\Users\\BeckyC\\AppData\\Local\\Continuum\\Anaconda3\\lib\\site-packages\\sklearn\\cross_validation.py:552: Warning: The least populated class in y has only 1 members, which is too few. The minimum number of labels for any class cannot be less than n_folds=3.\n",
      "  % (min_labels, self.n_folds)), Warning)\n"
     ]
    },
    {
     "name": "stdout",
     "output_type": "stream",
     "text": [
      "n trees: 91, accuracy [ 0.625       0.66666667  0.61363636], Average accuracy 0.63510101010101\n"
     ]
    }
   ],
   "source": [
    "## Calculate optimal number of trees... \n",
    "for n_trees in range(1, 100, 10):\n",
    "    model = RandomForestClassifier(n_estimators = n_trees,max_depth =4) # Number of trees to build\n",
    "    scores = cross_val_score(model, X, y, scoring='accuracy')\n",
    "    print('n trees: {}, accuracy {}, Average accuracy {}'.format(n_trees, scores, scores.mean()))"
   ]
  },
  {
   "cell_type": "markdown",
   "metadata": {},
   "source": [
    "The above tells me that 51 trees returns the highest accuracy, based on predicting the donatedamount this is **63.57%**.  \n",
    "It is also worth testing 91 trees as the accuracy there is 63.5% also."
   ]
  },
  {
   "cell_type": "markdown",
   "metadata": {},
   "source": [
    "### Feature importance\n",
    "(pretty redundant for a model with only two features!)"
   ]
  },
  {
   "cell_type": "code",
   "execution_count": 60,
   "metadata": {
    "collapsed": false
   },
   "outputs": [
    {
     "name": "stdout",
     "output_type": "stream",
     "text": [
      "              Features  Importance Score\n",
      "0  alldonationsavgl24m          0.657028\n",
      "1               allltv          0.342972\n",
      "y= donatedamount , number of classes to predict:  14\n",
      "number of features: 2\n"
     ]
    },
    {
     "name": "stderr",
     "output_type": "stream",
     "text": [
      "C:\\Users\\BeckyC\\AppData\\Local\\Continuum\\Anaconda3\\lib\\site-packages\\ipykernel\\__main__.py:6: FutureWarning: sort(columns=....) is deprecated, use sort_values(by=.....)\n"
     ]
    }
   ],
   "source": [
    "features = X.columns\n",
    "feature_importances = model.feature_importances_\n",
    "\n",
    "features_df = pd.DataFrame({'Features': features, 'Importance Score': feature_importances})\n",
    "features_df.sort('Importance Score', inplace=True, ascending=False)\n",
    "\n",
    "print(features_df.head(10))\n",
    "print ('y=',y_col, ', number of classes to predict: ', model.n_classes_) \n",
    "print('number of features:', model.n_features_)\n"
   ]
  },
  {
   "cell_type": "markdown",
   "metadata": {},
   "source": [
    "### Final model  \n",
    "predictors = 'alldonationsavgl24m','allltv'  \n",
    "outcome = int(donatedamount)  \n",
    "trees = 90  \n",
    "max_depth =4 "
   ]
  },
  {
   "cell_type": "code",
   "execution_count": 64,
   "metadata": {
    "collapsed": false
   },
   "outputs": [
    {
     "name": "stderr",
     "output_type": "stream",
     "text": [
      "C:\\Users\\BeckyC\\AppData\\Local\\Continuum\\Anaconda3\\lib\\site-packages\\sklearn\\cross_validation.py:552: Warning: The least populated class in y has only 1 members, which is too few. The minimum number of labels for any class cannot be less than n_folds=5.\n",
      "  % (min_labels, self.n_folds)), Warning)\n"
     ]
    },
    {
     "name": "stdout",
     "output_type": "stream",
     "text": [
      "donatedamount CV Accuracy [ 0.5         0.6         0.67857143  0.7037037   0.72      ], Average Accuracy 0.6404550264550265\n",
      "oob accuracy score: 0.641891891892\n"
     ]
    }
   ],
   "source": [
    "##FINAL MODEL\n",
    "model = RandomForestClassifier(n_estimators = 90, # Number of trees \n",
    "                               oob_score=True,\n",
    "                               max_depth = 4) # ,min_samples_leaf=5)  \n",
    "model.fit(X, y)\n",
    "\n",
    "#Cross validation\n",
    "scores = cross_val_score(model, X, y,  scoring ='accuracy', cv=5)\n",
    "\n",
    "print(y_col, 'CV Accuracy {}, Average Accuracy {}'.format(scores, scores.mean()))\n",
    "print('oob accuracy score:', model.oob_score_)"
   ]
  },
  {
   "cell_type": "markdown",
   "metadata": {},
   "source": [
    "Predicting donatedamount using 50 trees and no max_depth, results in accuracy of **64.86%** on the out of bag (oob) sample, the sample left out in the bootstrap.  The model is also cross validated by cutting up the whole sample into 5 folds and taking the average of each folds accuracy, which is 64.19%.  \n"
   ]
  },
  {
   "cell_type": "markdown",
   "metadata": {},
   "source": [
    "### Test data "
   ]
  },
  {
   "cell_type": "code",
   "execution_count": 75,
   "metadata": {
    "collapsed": false
   },
   "outputs": [
    {
     "name": "stdout",
     "output_type": "stream",
     "text": [
      "donatedamount\n",
      "accuracy 0.567567567568\n"
     ]
    }
   ],
   "source": [
    "Y = tst[y_col]\n",
    "\n",
    "print(y_col)\n",
    "print ('accuracy', metrics.accuracy_score(Y, model.predict(X_test)) ) # proportion of correctly made preditions\n",
    "# predictions[predictions.Y== predictions.y]\n"
   ]
  },
  {
   "cell_type": "markdown",
   "metadata": {},
   "source": [
    "The accuracy drops  on the test set to 56.7% vs the training set 64%.  "
   ]
  },
  {
   "cell_type": "code",
   "execution_count": 77,
   "metadata": {
    "collapsed": false
   },
   "outputs": [
    {
     "name": "stdout",
     "output_type": "stream",
     "text": [
      "37\n"
     ]
    },
    {
     "name": "stderr",
     "output_type": "stream",
     "text": [
      "C:\\Users\\BeckyC\\AppData\\Local\\Continuum\\Anaconda3\\lib\\site-packages\\numpy\\lib\\function_base.py:564: VisibleDeprecationWarning: using a non-integer number instead of an integer will result in an error in the future\n",
      "  n = np.zeros(bins, ntype)\n",
      "C:\\Users\\BeckyC\\AppData\\Local\\Continuum\\Anaconda3\\lib\\site-packages\\numpy\\lib\\function_base.py:611: VisibleDeprecationWarning: using a non-integer number instead of an integer will result in an error in the future\n",
      "  n += np.bincount(indices, weights=tmp_w, minlength=bins).astype(ntype)\n"
     ]
    },
    {
     "data": {
      "text/plain": [
       "1.8918918918918919"
      ]
     },
     "execution_count": 77,
     "metadata": {},
     "output_type": "execute_result"
    },
    {
     "data": {
      "image/png": "[encoded data removed]",
      "text/plain": [
       "<matplotlib.figure.Figure at 0xc3a72b0>"
      ]
     },
     "metadata": {},
     "output_type": "display_data"
    }
   ],
   "source": [
    "# actual Y minus predicted y for **donatedamount**\n",
    "residuals = (Y -model.predict(X_test))\n",
    "plt.figure()\n",
    "plt.hist(residuals, bins=np.ceil(np.sqrt(len(y))))\n",
    "print(len(X_test))\n",
    "\n",
    "(Y -model.predict(X_test)).mean()"
   ]
  },
  {
   "cell_type": "markdown",
   "metadata": {},
   "source": [
    "The residual graph shows that the majority of predictions are correct (zero residual)  \n",
    "\n",
    "The model is more likely to overpredict, as shown by the negative residuals.\n",
    "\n",
    "The mean residual error on the donatedamount model is £1.89, which is an improvement compared to the individual decision tree, which was £2.29."
   ]
  },
  {
   "cell_type": "markdown",
   "metadata": {},
   "source": [
    "### Overall (test & training data)"
   ]
  },
  {
   "cell_type": "code",
   "execution_count": 91,
   "metadata": {
    "collapsed": false
   },
   "outputs": [
    {
     "name": "stderr",
     "output_type": "stream",
     "text": [
      "C:\\Users\\BeckyC\\AppData\\Local\\Continuum\\Anaconda3\\lib\\site-packages\\ipykernel\\__main__.py:4: SettingWithCopyWarning: \n",
      "A value is trying to be set on a copy of a slice from a DataFrame.\n",
      "Try using .loc[row_indexer,col_indexer] = value instead\n",
      "\n",
      "See the caveats in the documentation: http://pandas.pydata.org/pandas-docs/stable/indexing.html#indexing-view-versus-copy\n"
     ]
    },
    {
     "name": "stdout",
     "output_type": "stream",
     "text": [
      "pred           1   2   5   10  20  30  40  50\n",
      "donatedamount                                \n",
      "1.0             1   0   0   0   0   0   0   0\n",
      "2.0             0   1   0   0   0   0   0   0\n",
      "2.5             0   1   0   0   0   0   0   0\n",
      "5.0             0   0  22   3   0   0   0   0\n",
      "10.0            0   0   4  17  11   0   0   0\n",
      "13.0            0   0   0   0   1   0   0   0\n",
      "15.0            0   0   0   0   5   0   0   0\n",
      "20.0            0   0   0   1  79   0   0   0\n",
      "23.0            0   0   0   0   1   0   0   0\n",
      "25.0            0   0   0   0   7   1   0   0\n",
      "30.0            0   0   0   0   6   4   0   0\n",
      "35.0            0   0   0   0   2   0   0   0\n",
      "40.0            0   0   0   0   4   0   2   1\n",
      "50.0            0   0   0   0   2   0   0   7\n",
      "60.0            0   0   0   0   0   1   0   0\n",
      "80.0            0   0   0   0   1   0   0   0\n"
     ]
    },
    {
     "data": {
      "image/png": "[encoded data removed]",
      "text/plain": [
       "<matplotlib.figure.Figure at 0xbccd6a0>"
      ]
     },
     "metadata": {},
     "output_type": "display_data"
    }
   ],
   "source": [
    "#because volumes are so low in this analysis I'm using the entire file to evaluate, which includes the unseen and seen data.\n",
    "Xtotal = df[['alldonationsavgl24m','allltv']]\n",
    "predictions = df[['donatedamount']]\n",
    "predictions['pred']  = model.predict(Xtotal)\n",
    "predictions.head()\n",
    "\n",
    "sns.lmplot( 'donatedamount','pred', predictions)\n",
    "print(pd.crosstab(predictions.donatedamount, predictions.pred)) \n"
   ]
  },
  {
   "cell_type": "code",
   "execution_count": 94,
   "metadata": {
    "collapsed": false
   },
   "outputs": [
    {
     "name": "stdout",
     "output_type": "stream",
     "text": [
      "             precision    recall  f1-score   support\n",
      "\n",
      "          1       1.00      1.00      1.00         1\n",
      "          2       1.00      1.00      1.00         2\n",
      "          5       0.85      0.88      0.86        25\n",
      "         10       0.81      0.53      0.64        32\n",
      "         13       0.00      0.00      0.00         1\n",
      "         15       0.00      0.00      0.00         5\n",
      "         20       0.66      0.99      0.79        80\n",
      "         23       0.00      0.00      0.00         1\n",
      "         25       0.00      0.00      0.00         8\n",
      "         30       0.67      0.40      0.50        10\n",
      "         35       0.00      0.00      0.00         2\n",
      "         40       1.00      0.29      0.44         7\n",
      "         50       0.88      0.78      0.82         9\n",
      "         60       0.00      0.00      0.00         1\n",
      "         80       0.00      0.00      0.00         1\n",
      "\n",
      "avg / total       0.67      0.72      0.67       185\n",
      "\n"
     ]
    },
    {
     "name": "stderr",
     "output_type": "stream",
     "text": [
      "C:\\Users\\BeckyC\\AppData\\Local\\Continuum\\Anaconda3\\lib\\site-packages\\sklearn\\metrics\\classification.py:1113: UndefinedMetricWarning: Precision and F-score are ill-defined and being set to 0.0 in labels with no predicted samples.\n",
      "  'precision', 'predicted', average, warn_for)\n"
     ]
    }
   ],
   "source": [
    "report = classification_report(predictions['donatedamount'].astype(int), predictions.pred)\n",
    "print(report)"
   ]
  },
  {
   "cell_type": "code",
   "execution_count": 99,
   "metadata": {
    "collapsed": false
   },
   "outputs": [
    {
     "data": {
      "text/plain": [
       "(array([  22.,  134.,   12.,    7.,    2.,    4.,    3.,    0.,    0.,\n",
       "           0.,    0.,    1.]),\n",
       " array([-10.        ,  -4.16666667,   1.66666667,   7.5       ,\n",
       "         13.33333333,  19.16666667,  25.        ,  30.83333333,\n",
       "         36.66666667,  42.5       ,  48.33333333,  54.16666667,  60.        ]),\n",
       " <a list of 12 Patch objects>)"
      ]
     },
     "execution_count": 99,
     "metadata": {},
     "output_type": "execute_result"
    },
    {
     "data": {
      "image/png": "[encoded data removed]",
      "text/plain": [
       "<matplotlib.figure.Figure at 0xc37c668>"
      ]
     },
     "metadata": {},
     "output_type": "display_data"
    }
   ],
   "source": [
    "# actual Y minus predicted y for **donatedamount**\n",
    "residuals = (predictions.donatedamount -predictions.pred)\n",
    "plt.figure()\n",
    "plt.hist(residuals, bins=12) #np.ceil(np.sqrt(len(y))))\n",
    "\n",
    "# (Y -model.predict(X_test)).mean()"
   ]
  },
  {
   "cell_type": "markdown",
   "metadata": {},
   "source": [
    "## Summary \n",
    "The overall accuracy seems quite operational, with an f1-score of 67%.   \n",
    "\n",
    "The recall averages at 72%, but there is some volatility across the donation amounts.  Recall tells us how many predictions we missed (false negatives), that is those that were predicted false, for example, not predicted £20 but actually were £20. In a fraud scenario, these are fraudulent transactions not detected.  In the table below it shows the stats for the £20 subset, we correctly predicted £20 for 79 of the 80 £20 donations and therefore missed very few.\n",
    "\n",
    "Precision measures the distribution of predictions, so for all of the positive predictions, how many of them actually turned out to be correct.  In a fraud scenario, this is how cleanly did we identify fraud without capturing any genuine (false positives).  In the £20 subset below, when we predicted £20 the model was right 66% of the time, and therefore 33% of false positives.  The overall precision of the model is quite high (all values >=0.66) and averages at 67%.  \n",
    "\n",
    "\n",
    "||Actual||||  \n",
    "|---|---|---|---|---|---|\n",
    "|**Predicted**|£20|Other|||\n",
    "|£20|79|40|66%|<< precision|\n",
    "|Other|1|65|||\n",
    "|recall >>|99%||78%|<<accuracy\n",
    "\n",
    "\n",
    "Where both precision and recall is zero, the model hasn't made any predictions for this amount.  \n",
    "\n",
    "** In this context there isn't an argument for favouring a higher precision over recall or vice versa.  A missed or falsely classified prediction is still inaccurate, and it doesn't change our decision to ask for cash **. Therefore, overall accuracy is the best measure alongside the residual graph to show how well centred values are around zero - and whether there is a disposition to over or under prompt and the risk associated with either.  \n",
    "\n",
    "The purpose of this analysis was to understand if de-personalising the prompt value would identify relationships with other features in the data.  The result in this sense is quite poor, as none of the supporters characteristics (mosaic, gender etc) were significant enough to be a feature.  The most powerful predictors were those relating to the supporters previous giving.  \n",
    "\n",
    "What also became apparent is that there is a strong correlation between the prompted amount and the donated amount, and whilst we have \"normalised\" the prompt it is still strongly influencing the supporters behaviour.  To remove any bias it would be sensible to ask for cash without any prompt - is this an option?  \n",
    "\n",
    "Alternatively, we could analyse response to all personalised prompts, on the basis that each has a consistently applied bias, and the prompt strategy is derived from previous giving.  So overlaying mosaic, for instance, could still identify a valid relationship?"
   ]
  },
  {
   "cell_type": "markdown",
   "metadata": {},
   "source": [
    "What are my recommendations?  \n",
    "Increase fixed prompt to £25 to test sensitivity or remain at £20 to grow the sample base?  \n",
    "See if a sample of variable prompted supporters can help us understand the relationship with mosaic (any other categorical variables?)  \n",
    "See if we can run a \"no prompt\" test? This will enable us to build a model from unbiased data. But the model is predicting donation amount and the relationship between prompted amount and donated amount would still need to be understood."
   ]
  }
 ],
 "metadata": {
  "kernelspec": {
   "display_name": "Python 3",
   "language": "python",
   "name": "python3"
  },
  "language_info": {
   "codemirror_mode": {
    "name": "ipython",
    "version": 3
   },
   "file_extension": ".py",
   "mimetype": "text/x-python",
   "name": "python",
   "nbconvert_exporter": "python",
   "pygments_lexer": "ipython3",
   "version": "3.6.0"
  }
 },
 "nbformat": 4,
 "nbformat_minor": 2
}
